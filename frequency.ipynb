{
 "cells": [
  {
   "cell_type": "code",
   "execution_count": 2,
   "metadata": {},
   "outputs": [],
   "source": [
    "import numpy as np\n",
    "import pandas as pd\n",
    "import matplotlib.pyplot as plt\n",
    "from scipy.signal import find_peaks"
   ]
  },
  {
   "cell_type": "code",
   "execution_count": null,
   "metadata": {},
   "outputs": [],
   "source": [
    "# 파일 경로\n",
    "file_path = r\"C:\\Users\\GCU\\OneDrive - gachon.ac.kr\\HI Lab\\0. Projects\\0. On going\\2. Leaf inspired DEG\\0. 실험자료\\2. Collecting data\\250325_굴곡별\\csv파일_축소본\\l8.csv\"\n",
    "\n",
    "# 데이터 로드 (헤더 없음)\n",
    "df = pd.read_csv(file_path, header=None)\n",
    "\n",
    "\n",
    "# 예시 시계열 데이터 생성 (교류 전압 신호)\n",
    "sampling_rate = 10000  # 샘플링 주파수 (Hz)\n",
    "duration = 0.1  # 신호 길이 (초)\n",
    "t = np.linspace(0, duration, int(sampling_rate * duration), endpoint=False)\n",
    "frequency = 60  # 신호의 기본 주파수 (Hz)\n",
    "\n",
    "# peak 감지\n",
    "peaks, _ = find_peaks(df)\n",
    "\n",
    "# 시간 단위로 변환된 peak 위치\n",
    "peak_times = t[peaks]\n",
    "\n",
    "# 주기 계산 (초 단위)\n",
    "periods = np.diff(peak_times)\n",
    "\n",
    "# 주파수 계산 (Hz)\n",
    "frequencies = 1 / periods\n",
    "\n",
    "# 출력\n",
    "for i, freq in enumerate(frequencies):\n",
    "    print(f\"Peak {i} -> Peak {i+1}: Frequency = {freq:.2f} Hz\")"
   ]
  }
 ],
 "metadata": {
  "kernelspec": {
   "display_name": "Python 3",
   "language": "python",
   "name": "python3"
  },
  "language_info": {
   "codemirror_mode": {
    "name": "ipython",
    "version": 3
   },
   "file_extension": ".py",
   "mimetype": "text/x-python",
   "name": "python",
   "nbconvert_exporter": "python",
   "pygments_lexer": "ipython3",
   "version": "3.11.9"
  }
 },
 "nbformat": 4,
 "nbformat_minor": 2
}
