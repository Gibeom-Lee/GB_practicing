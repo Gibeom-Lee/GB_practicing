{
 "cells": [
  {
   "cell_type": "code",
   "execution_count": 1,
   "metadata": {},
   "outputs": [],
   "source": [
    "# made by Gibeom LEE, HI LAB\n",
    "# 한 폴더안에 모든 csv파일의 맨 처음부터 21번째 행까지를 지웁니다. (오실로스코프 정보)\n",
    "# 또한, 시작하는 시간을 0초 부터 시작하게 합니다.\n",
    "# 이미 처리된 파일일 경우, 작동하지 않습니다."
   ]
  },
  {
   "cell_type": "code",
   "execution_count": 2,
   "metadata": {},
   "outputs": [],
   "source": [
    "import os\n",
    "import re\n",
    "import glob\n",
    "import numpy as np\n",
    "import pandas as pd\n",
    "from concurrent.futures import ThreadPoolExecutor, as_completed"
   ]
  },
  {
   "cell_type": "code",
   "execution_count": 3,
   "metadata": {},
   "outputs": [],
   "source": [
    "# 파일이 있는 폴더 경로\n",
    "folder_path = r\"C:\\Users\\user\\Desktop\\Drive파일\\HI Lab\\0. Projects\\0. On going\\2. Aloe inspired DEG\\0. 실험자료\\4. Data measurement\\251019_데모 데이터\\conventional 2차\"\n"
   ]
  },
  {
   "cell_type": "code",
   "execution_count": 4,
   "metadata": {},
   "outputs": [
    {
     "name": "stdout",
     "output_type": "stream",
     "text": [
      "[info] Found 6 CSV files. Processing with 8 threads...\n",
      "[ok] C:\\Users\\user\\Desktop\\Drive파일\\HI Lab\\0. Projects\\0. On going\\2. Aloe inspired DEG\\0. 실험자료\\4. Data measurement\\251019_데모 데이터\\conventional 2차\\ConvDEG_3-2.csv\n",
      "[ok] C:\\Users\\user\\Desktop\\Drive파일\\HI Lab\\0. Projects\\0. On going\\2. Aloe inspired DEG\\0. 실험자료\\4. Data measurement\\251019_데모 데이터\\conventional 2차\\ConvDEG_3-3.csv\n",
      "[ok] C:\\Users\\user\\Desktop\\Drive파일\\HI Lab\\0. Projects\\0. On going\\2. Aloe inspired DEG\\0. 실험자료\\4. Data measurement\\251019_데모 데이터\\conventional 2차\\ConvDEG_3-1.csv\n",
      "[ok] C:\\Users\\user\\Desktop\\Drive파일\\HI Lab\\0. Projects\\0. On going\\2. Aloe inspired DEG\\0. 실험자료\\4. Data measurement\\251019_데모 데이터\\conventional 2차\\ConvDEG_3-5.csv\n",
      "[ok] C:\\Users\\user\\Desktop\\Drive파일\\HI Lab\\0. Projects\\0. On going\\2. Aloe inspired DEG\\0. 실험자료\\4. Data measurement\\251019_데모 데이터\\conventional 2차\\ConvDEG_3-4.csv\n",
      "[ok] C:\\Users\\user\\Desktop\\Drive파일\\HI Lab\\0. Projects\\0. On going\\2. Aloe inspired DEG\\0. 실험자료\\4. Data measurement\\251019_데모 데이터\\conventional 2차\\ConvDEG_3-6.csv\n"
     ]
    }
   ],
   "source": [
    "MAX_WORKERS = min(8, (os.cpu_count() or 4))  # 병렬 처리 스레드 수\n",
    "# ========================\n",
    "\n",
    "# 콤마/탭/세미콜론 혼용 구분자 허용 + 불량 라인 스킵 + BOM 대응\n",
    "READ_OPTS = dict(\n",
    "    engine=\"python\",\n",
    "    sep=r\"[,\\t;]+\",\n",
    "    on_bad_lines=\"skip\",\n",
    "    encoding=\"utf-8-sig\",\n",
    "    header=None\n",
    ")\n",
    "\n",
    "# 숫자/구분자만 있는지 대략 판별(매우 빠름): 영문자/한글/따옴표 등 있으면 True\n",
    "_non_numeric_re = re.compile(r\"[A-Za-z가-힣\\\"']\")\n",
    "\n",
    "def fast_already_processed_check(path: str, sample_bytes: int = 4096) -> bool:\n",
    "    \"\"\"\n",
    "    매우 빠르게 앞부분만 읽어서 '이미 처리된 파일(텍스트 헤더가 없음)'로 추정할지 판별.\n",
    "    원래 로직의 '미리보기 contains_text'를 대체(더 빠름).\n",
    "    True이면 '이미 처리됨'으로 간주하고 스킵.\n",
    "    \"\"\"\n",
    "    try:\n",
    "        with open(path, \"rb\") as f:\n",
    "            head = f.read(sample_bytes)\n",
    "        try:\n",
    "            s = head.decode(\"utf-8-sig\", errors=\"ignore\")\n",
    "        except Exception:\n",
    "            s = head.decode(errors=\"ignore\")\n",
    "        # 영문/한글/따옴표 등 텍스트가 눈에 띄면 아직 미처리로 판단\n",
    "        return _non_numeric_re.search(s) is None\n",
    "    except Exception:\n",
    "        # 문제가 있으면 미처리로 간주하여 처리 시도\n",
    "        return False\n",
    "\n",
    "def process_one_csv(file_path: str) -> str:\n",
    "    try:\n",
    "        # 파일명 공백 → 언더바\n",
    "        dir_name, file_name = os.path.split(file_path)\n",
    "        new_file_name = file_name.replace(' ', '_')\n",
    "        new_file_path = os.path.join(dir_name, new_file_name)\n",
    "        if new_file_name != file_name:\n",
    "            os.replace(file_path, new_file_path)  # 같은 파일시스템 내 빠른 교체\n",
    "            file_path = new_file_path\n",
    "            print(f\"[rename] {file_name} -> {new_file_name}\")\n",
    "\n",
    "        # 빠른 '이미 처리됨' 체크 (기존 preview 대체, 훨씬 빠름)\n",
    "        if fast_already_processed_check(file_path):\n",
    "            return f\"[skip] Already processed (no header-like text): {file_path}\"\n",
    "\n",
    "        # 21행 스킵 + 유연한 구분자/불량라인 스킵으로 안전 파싱\n",
    "        df = pd.read_csv(file_path, skiprows=21, **READ_OPTS)\n",
    "\n",
    "        # 숫자 변환(1회) + NaN-only 행 제거\n",
    "        df = df.apply(pd.to_numeric, errors=\"coerce\").dropna(how=\"all\")\n",
    "        if df.empty:\n",
    "            return f\"[empty] No valid data in {file_path}\"\n",
    "\n",
    "        # 시간 재계산 (첫 열만 등간격으로 교체, 나머지 열 보존) — 원본 기능 유지\n",
    "        num_rows, num_cols = df.shape\n",
    "        if num_rows > 1 and num_cols >= 1:\n",
    "            start_time = df.iat[0, 0]\n",
    "            end_time   = df.iat[-1, 0]\n",
    "            if pd.isna(start_time) or pd.isna(end_time):\n",
    "                dt = 1.0\n",
    "            else:\n",
    "                dt = (end_time - start_time) / (num_rows - 1)\n",
    "            df.iloc[:, 0] = np.arange(num_rows, dtype=float) * float(dt)\n",
    "\n",
    "        # 저장 (일반적으로 to_csv가 savetxt보다 빠름)\n",
    "        df.to_csv(file_path, index=False, header=False, float_format=\"%.10f\")\n",
    "        return f\"[ok] {file_path}\"\n",
    "\n",
    "    except Exception as e:\n",
    "        return f\"[err] {file_path}: {e}\"\n",
    "\n",
    "def main():\n",
    "    csv_files = glob.glob(os.path.join(folder_path, \"*.csv\"))\n",
    "    if not csv_files:\n",
    "        print(\"[info] No CSV files found.\")\n",
    "        return\n",
    "\n",
    "    print(f\"[info] Found {len(csv_files)} CSV files. Processing with {MAX_WORKERS} threads...\")\n",
    "    results = []\n",
    "    with ThreadPoolExecutor(max_workers=MAX_WORKERS) as ex:\n",
    "        futs = [ex.submit(process_one_csv, p) for p in csv_files]\n",
    "        for fut in as_completed(futs):\n",
    "            results.append(fut.result())\n",
    "\n",
    "    # 로그 출력\n",
    "    for msg in results:\n",
    "        print(msg)\n",
    "\n",
    "if __name__ == \"__main__\":\n",
    "    main()\n"
   ]
  }
 ],
 "metadata": {
  "kernelspec": {
   "display_name": "Python 3",
   "language": "python",
   "name": "python3"
  },
  "language_info": {
   "codemirror_mode": {
    "name": "ipython",
    "version": 3
   },
   "file_extension": ".py",
   "mimetype": "text/x-python",
   "name": "python",
   "nbconvert_exporter": "python",
   "pygments_lexer": "ipython3",
   "version": "3.13.7"
  }
 },
 "nbformat": 4,
 "nbformat_minor": 2
}
