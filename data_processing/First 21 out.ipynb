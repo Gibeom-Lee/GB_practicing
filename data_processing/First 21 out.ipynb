{
 "cells": [
  {
   "cell_type": "code",
   "execution_count": 2,
   "metadata": {},
   "outputs": [],
   "source": [
    "# made by Gibeom LEE, HI LAB\n",
    "# 한 폴더안에 모든 csv파일의 맨 처음 21번째 행을 지웁니다. (오실로스코프 정보)\n",
    "# 또한, 시작하는 시간을 0초 부터 시작하게 합니다.\n",
    "# 한 파일을 중복해서 지우지 않게 주의하세요."
   ]
  },
  {
   "cell_type": "code",
   "execution_count": 3,
   "metadata": {},
   "outputs": [],
   "source": [
    "import pandas as pd\n",
    "import numpy as np\n",
    "import os\n",
    "import glob  # 폴더 내 파일 리스트 가져오는 라이브러리"
   ]
  },
  {
   "cell_type": "code",
   "execution_count": 4,
   "metadata": {},
   "outputs": [
    {
     "name": "stdout",
     "output_type": "stream",
     "text": [
      "Filtered data saved at: C:\\Users\\GCU\\OneDrive - gachon.ac.kr\\HI Lab\\0. Projects\\0. On going\\2. Aloe inspired DEG\\0. 실험자료\\2. Collecting data\\250701_O-E flat DEG\\Eicosane\\eicosane 0_6.68Hz.csv\n",
      "Filtered data saved at: C:\\Users\\GCU\\OneDrive - gachon.ac.kr\\HI Lab\\0. Projects\\0. On going\\2. Aloe inspired DEG\\0. 실험자료\\2. Collecting data\\250701_O-E flat DEG\\Eicosane\\eicosane 10_4.44Hz.csv\n",
      "Filtered data saved at: C:\\Users\\GCU\\OneDrive - gachon.ac.kr\\HI Lab\\0. Projects\\0. On going\\2. Aloe inspired DEG\\0. 실험자료\\2. Collecting data\\250701_O-E flat DEG\\Eicosane\\eicosane 5_6.41Hz.csv\n"
     ]
    }
   ],
   "source": [
    "# 파일이 있는 폴더 경로\n",
    "folder_path = r\"C:\\Users\\GCU\\OneDrive - gachon.ac.kr\\HI Lab\\0. Projects\\0. On going\\2. Aloe inspired DEG\\0. 실험자료\\2. Collecting data\\250701_O-E flat DEG\\Eicosane\"\n",
    "\n",
    "# 해당 폴더 내 모든 CSV 파일 가져오기\n",
    "csv_files = glob.glob(os.path.join(folder_path, \"*.csv\"))\n",
    "\n",
    "for file_path in csv_files:\n",
    "    try:\n",
    "        # Pandas로 빠르게 로드 (21줄 스킵)\n",
    "        df = pd.read_csv(file_path, header=None, skiprows=21)\n",
    "\n",
    "        # 숫자 변환 + NaN 제거\n",
    "        df = df.apply(pd.to_numeric, errors='coerce').dropna()\n",
    "\n",
    "        if df.empty:\n",
    "            print(f\"No valid data in {file_path}\")\n",
    "            continue\n",
    "\n",
    "        # NumPy로 변환\n",
    "        data = df.values\n",
    "\n",
    "        # 시간 재계산\n",
    "        num_rows = data.shape[0]\n",
    "        if num_rows > 1:\n",
    "            start_time = data[0, 0]\n",
    "            end_time = data[-1, 0]\n",
    "            time_interval = (end_time - start_time) / (num_rows - 1)\n",
    "            time_col = np.arange(num_rows) * time_interval\n",
    "        else:\n",
    "            time_col = np.array([0.0])\n",
    "\n",
    "        # 새 데이터 생성\n",
    "        new_data = np.column_stack((time_col, data[:, 1]))\n",
    "\n",
    "        # 빠른 저장\n",
    "        np.savetxt(file_path, new_data, delimiter=',', fmt='%.10f')\n",
    "\n",
    "        print(f\"Filtered data saved at: {file_path}\")\n",
    "\n",
    "    except Exception as e:\n",
    "        print(f\"Error processing {file_path}: {e}\")\n"
   ]
  }
 ],
 "metadata": {
  "kernelspec": {
   "display_name": "Python 3",
   "language": "python",
   "name": "python3"
  },
  "language_info": {
   "codemirror_mode": {
    "name": "ipython",
    "version": 3
   },
   "file_extension": ".py",
   "mimetype": "text/x-python",
   "name": "python",
   "nbconvert_exporter": "python",
   "pygments_lexer": "ipython3",
   "version": "3.11.9"
  }
 },
 "nbformat": 4,
 "nbformat_minor": 2
}
