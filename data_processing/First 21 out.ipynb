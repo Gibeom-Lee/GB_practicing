{
 "cells": [
  {
   "cell_type": "code",
   "execution_count": 1,
   "metadata": {},
   "outputs": [],
   "source": [
    "# made by Gibeom LEE, HI LAB\n",
    "# 한 폴더안에 모든 csv파일의 맨 처음부터 21번째 행까지를 지웁니다. (오실로스코프 정보)\n",
    "# 또한, 시작하는 시간을 0초 부터 시작하게 합니다.\n",
    "# 이미 처리된 파일일 경우, 작동하지 않습니다."
   ]
  },
  {
   "cell_type": "code",
   "execution_count": 2,
   "metadata": {},
   "outputs": [],
   "source": [
    "import pandas as pd\n",
    "import numpy as np\n",
    "import os\n",
    "import glob  # 폴더 내 파일 리스트 가져오는 라이브러리"
   ]
  },
  {
   "cell_type": "code",
   "execution_count": 3,
   "metadata": {},
   "outputs": [],
   "source": [
    "# 파일이 있는 폴더 경로\n",
    "folder_path = r\"C:\\Users\\user\\Desktop\\Drive파일\\HI Lab\\0. Projects\\0. On going\\1. ionic DC-TENG\\0. 실험자료\\6. data measurement\\250921\\csv파일\"\n"
   ]
  },
  {
   "cell_type": "code",
   "execution_count": 4,
   "metadata": {},
   "outputs": [
    {
     "name": "stdout",
     "output_type": "stream",
     "text": [
      "Renamed file: 0921 10 ac 2.csv -> 0921_10_ac_2.csv\n",
      "Filtered data saved at: C:\\Users\\user\\Desktop\\Drive파일\\HI Lab\\0. Projects\\0. On going\\1. ionic DC-TENG\\0. 실험자료\\6. data measurement\\250921\\csv파일\\0921_10_ac_2.csv\n",
      "Renamed file: 0921 10 ac.csv -> 0921_10_ac.csv\n"
     ]
    },
    {
     "name": "stderr",
     "output_type": "stream",
     "text": [
      "C:\\Users\\user\\AppData\\Local\\Temp\\ipykernel_25432\\3065148802.py:19: FutureWarning: DataFrame.applymap has been deprecated. Use DataFrame.map instead.\n",
      "  contains_text = preview.applymap(lambda x: isinstance(x, str)).any().any()\n",
      "C:\\Users\\user\\AppData\\Local\\Temp\\ipykernel_25432\\3065148802.py:19: FutureWarning: DataFrame.applymap has been deprecated. Use DataFrame.map instead.\n",
      "  contains_text = preview.applymap(lambda x: isinstance(x, str)).any().any()\n"
     ]
    },
    {
     "name": "stdout",
     "output_type": "stream",
     "text": [
      "Filtered data saved at: C:\\Users\\user\\Desktop\\Drive파일\\HI Lab\\0. Projects\\0. On going\\1. ionic DC-TENG\\0. 실험자료\\6. data measurement\\250921\\csv파일\\0921_10_ac.csv\n",
      "Renamed file: 0921 10 dc 2.csv -> 0921_10_dc_2.csv\n",
      "Filtered data saved at: C:\\Users\\user\\Desktop\\Drive파일\\HI Lab\\0. Projects\\0. On going\\1. ionic DC-TENG\\0. 실험자료\\6. data measurement\\250921\\csv파일\\0921_10_dc_2.csv\n",
      "Renamed file: 0921 10 dc.csv -> 0921_10_dc.csv\n"
     ]
    },
    {
     "name": "stderr",
     "output_type": "stream",
     "text": [
      "C:\\Users\\user\\AppData\\Local\\Temp\\ipykernel_25432\\3065148802.py:19: FutureWarning: DataFrame.applymap has been deprecated. Use DataFrame.map instead.\n",
      "  contains_text = preview.applymap(lambda x: isinstance(x, str)).any().any()\n",
      "C:\\Users\\user\\AppData\\Local\\Temp\\ipykernel_25432\\3065148802.py:19: FutureWarning: DataFrame.applymap has been deprecated. Use DataFrame.map instead.\n",
      "  contains_text = preview.applymap(lambda x: isinstance(x, str)).any().any()\n"
     ]
    },
    {
     "name": "stdout",
     "output_type": "stream",
     "text": [
      "Filtered data saved at: C:\\Users\\user\\Desktop\\Drive파일\\HI Lab\\0. Projects\\0. On going\\1. ionic DC-TENG\\0. 실험자료\\6. data measurement\\250921\\csv파일\\0921_10_dc.csv\n",
      "Renamed file: 0921 12 ac 2.csv -> 0921_12_ac_2.csv\n",
      "Filtered data saved at: C:\\Users\\user\\Desktop\\Drive파일\\HI Lab\\0. Projects\\0. On going\\1. ionic DC-TENG\\0. 실험자료\\6. data measurement\\250921\\csv파일\\0921_12_ac_2.csv\n",
      "Renamed file: 0921 12 ac.csv -> 0921_12_ac.csv\n"
     ]
    },
    {
     "name": "stderr",
     "output_type": "stream",
     "text": [
      "C:\\Users\\user\\AppData\\Local\\Temp\\ipykernel_25432\\3065148802.py:19: FutureWarning: DataFrame.applymap has been deprecated. Use DataFrame.map instead.\n",
      "  contains_text = preview.applymap(lambda x: isinstance(x, str)).any().any()\n",
      "C:\\Users\\user\\AppData\\Local\\Temp\\ipykernel_25432\\3065148802.py:19: FutureWarning: DataFrame.applymap has been deprecated. Use DataFrame.map instead.\n",
      "  contains_text = preview.applymap(lambda x: isinstance(x, str)).any().any()\n"
     ]
    },
    {
     "name": "stdout",
     "output_type": "stream",
     "text": [
      "Filtered data saved at: C:\\Users\\user\\Desktop\\Drive파일\\HI Lab\\0. Projects\\0. On going\\1. ionic DC-TENG\\0. 실험자료\\6. data measurement\\250921\\csv파일\\0921_12_ac.csv\n",
      "Renamed file: 0921 12 dc 2.csv -> 0921_12_dc_2.csv\n",
      "Filtered data saved at: C:\\Users\\user\\Desktop\\Drive파일\\HI Lab\\0. Projects\\0. On going\\1. ionic DC-TENG\\0. 실험자료\\6. data measurement\\250921\\csv파일\\0921_12_dc_2.csv\n",
      "Renamed file: 0921 12 dc.csv -> 0921_12_dc.csv\n"
     ]
    },
    {
     "name": "stderr",
     "output_type": "stream",
     "text": [
      "C:\\Users\\user\\AppData\\Local\\Temp\\ipykernel_25432\\3065148802.py:19: FutureWarning: DataFrame.applymap has been deprecated. Use DataFrame.map instead.\n",
      "  contains_text = preview.applymap(lambda x: isinstance(x, str)).any().any()\n",
      "C:\\Users\\user\\AppData\\Local\\Temp\\ipykernel_25432\\3065148802.py:19: FutureWarning: DataFrame.applymap has been deprecated. Use DataFrame.map instead.\n",
      "  contains_text = preview.applymap(lambda x: isinstance(x, str)).any().any()\n"
     ]
    },
    {
     "name": "stdout",
     "output_type": "stream",
     "text": [
      "Filtered data saved at: C:\\Users\\user\\Desktop\\Drive파일\\HI Lab\\0. Projects\\0. On going\\1. ionic DC-TENG\\0. 실험자료\\6. data measurement\\250921\\csv파일\\0921_12_dc.csv\n",
      "Renamed file: 0921 14 ac 2.csv -> 0921_14_ac_2.csv\n",
      "Filtered data saved at: C:\\Users\\user\\Desktop\\Drive파일\\HI Lab\\0. Projects\\0. On going\\1. ionic DC-TENG\\0. 실험자료\\6. data measurement\\250921\\csv파일\\0921_14_ac_2.csv\n",
      "Renamed file: 0921 14 ac.csv -> 0921_14_ac.csv\n"
     ]
    },
    {
     "name": "stderr",
     "output_type": "stream",
     "text": [
      "C:\\Users\\user\\AppData\\Local\\Temp\\ipykernel_25432\\3065148802.py:19: FutureWarning: DataFrame.applymap has been deprecated. Use DataFrame.map instead.\n",
      "  contains_text = preview.applymap(lambda x: isinstance(x, str)).any().any()\n",
      "C:\\Users\\user\\AppData\\Local\\Temp\\ipykernel_25432\\3065148802.py:19: FutureWarning: DataFrame.applymap has been deprecated. Use DataFrame.map instead.\n",
      "  contains_text = preview.applymap(lambda x: isinstance(x, str)).any().any()\n"
     ]
    },
    {
     "name": "stdout",
     "output_type": "stream",
     "text": [
      "Filtered data saved at: C:\\Users\\user\\Desktop\\Drive파일\\HI Lab\\0. Projects\\0. On going\\1. ionic DC-TENG\\0. 실험자료\\6. data measurement\\250921\\csv파일\\0921_14_ac.csv\n",
      "Renamed file: 0921 14 dc 2.csv -> 0921_14_dc_2.csv\n",
      "Filtered data saved at: C:\\Users\\user\\Desktop\\Drive파일\\HI Lab\\0. Projects\\0. On going\\1. ionic DC-TENG\\0. 실험자료\\6. data measurement\\250921\\csv파일\\0921_14_dc_2.csv\n",
      "Renamed file: 0921 14 dc.csv -> 0921_14_dc.csv\n"
     ]
    },
    {
     "name": "stderr",
     "output_type": "stream",
     "text": [
      "C:\\Users\\user\\AppData\\Local\\Temp\\ipykernel_25432\\3065148802.py:19: FutureWarning: DataFrame.applymap has been deprecated. Use DataFrame.map instead.\n",
      "  contains_text = preview.applymap(lambda x: isinstance(x, str)).any().any()\n",
      "C:\\Users\\user\\AppData\\Local\\Temp\\ipykernel_25432\\3065148802.py:19: FutureWarning: DataFrame.applymap has been deprecated. Use DataFrame.map instead.\n",
      "  contains_text = preview.applymap(lambda x: isinstance(x, str)).any().any()\n"
     ]
    },
    {
     "name": "stdout",
     "output_type": "stream",
     "text": [
      "Filtered data saved at: C:\\Users\\user\\Desktop\\Drive파일\\HI Lab\\0. Projects\\0. On going\\1. ionic DC-TENG\\0. 실험자료\\6. data measurement\\250921\\csv파일\\0921_14_dc.csv\n",
      "Renamed file: 0921 16 ac 2.csv -> 0921_16_ac_2.csv\n",
      "Filtered data saved at: C:\\Users\\user\\Desktop\\Drive파일\\HI Lab\\0. Projects\\0. On going\\1. ionic DC-TENG\\0. 실험자료\\6. data measurement\\250921\\csv파일\\0921_16_ac_2.csv\n",
      "Renamed file: 0921 16 ac.csv -> 0921_16_ac.csv\n"
     ]
    },
    {
     "name": "stderr",
     "output_type": "stream",
     "text": [
      "C:\\Users\\user\\AppData\\Local\\Temp\\ipykernel_25432\\3065148802.py:19: FutureWarning: DataFrame.applymap has been deprecated. Use DataFrame.map instead.\n",
      "  contains_text = preview.applymap(lambda x: isinstance(x, str)).any().any()\n",
      "C:\\Users\\user\\AppData\\Local\\Temp\\ipykernel_25432\\3065148802.py:19: FutureWarning: DataFrame.applymap has been deprecated. Use DataFrame.map instead.\n",
      "  contains_text = preview.applymap(lambda x: isinstance(x, str)).any().any()\n"
     ]
    },
    {
     "name": "stdout",
     "output_type": "stream",
     "text": [
      "Filtered data saved at: C:\\Users\\user\\Desktop\\Drive파일\\HI Lab\\0. Projects\\0. On going\\1. ionic DC-TENG\\0. 실험자료\\6. data measurement\\250921\\csv파일\\0921_16_ac.csv\n",
      "Renamed file: 0921 16 dc 2.csv -> 0921_16_dc_2.csv\n",
      "Filtered data saved at: C:\\Users\\user\\Desktop\\Drive파일\\HI Lab\\0. Projects\\0. On going\\1. ionic DC-TENG\\0. 실험자료\\6. data measurement\\250921\\csv파일\\0921_16_dc_2.csv\n",
      "Renamed file: 0921 16 dc.csv -> 0921_16_dc.csv\n"
     ]
    },
    {
     "name": "stderr",
     "output_type": "stream",
     "text": [
      "C:\\Users\\user\\AppData\\Local\\Temp\\ipykernel_25432\\3065148802.py:19: FutureWarning: DataFrame.applymap has been deprecated. Use DataFrame.map instead.\n",
      "  contains_text = preview.applymap(lambda x: isinstance(x, str)).any().any()\n",
      "C:\\Users\\user\\AppData\\Local\\Temp\\ipykernel_25432\\3065148802.py:19: FutureWarning: DataFrame.applymap has been deprecated. Use DataFrame.map instead.\n",
      "  contains_text = preview.applymap(lambda x: isinstance(x, str)).any().any()\n"
     ]
    },
    {
     "name": "stdout",
     "output_type": "stream",
     "text": [
      "Filtered data saved at: C:\\Users\\user\\Desktop\\Drive파일\\HI Lab\\0. Projects\\0. On going\\1. ionic DC-TENG\\0. 실험자료\\6. data measurement\\250921\\csv파일\\0921_16_dc.csv\n",
      "Renamed file: 0921 2 ac 2.csv -> 0921_2_ac_2.csv\n",
      "Filtered data saved at: C:\\Users\\user\\Desktop\\Drive파일\\HI Lab\\0. Projects\\0. On going\\1. ionic DC-TENG\\0. 실험자료\\6. data measurement\\250921\\csv파일\\0921_2_ac_2.csv\n",
      "Renamed file: 0921 2 ac.csv -> 0921_2_ac.csv\n"
     ]
    },
    {
     "name": "stderr",
     "output_type": "stream",
     "text": [
      "C:\\Users\\user\\AppData\\Local\\Temp\\ipykernel_25432\\3065148802.py:19: FutureWarning: DataFrame.applymap has been deprecated. Use DataFrame.map instead.\n",
      "  contains_text = preview.applymap(lambda x: isinstance(x, str)).any().any()\n",
      "C:\\Users\\user\\AppData\\Local\\Temp\\ipykernel_25432\\3065148802.py:19: FutureWarning: DataFrame.applymap has been deprecated. Use DataFrame.map instead.\n",
      "  contains_text = preview.applymap(lambda x: isinstance(x, str)).any().any()\n"
     ]
    },
    {
     "name": "stdout",
     "output_type": "stream",
     "text": [
      "Filtered data saved at: C:\\Users\\user\\Desktop\\Drive파일\\HI Lab\\0. Projects\\0. On going\\1. ionic DC-TENG\\0. 실험자료\\6. data measurement\\250921\\csv파일\\0921_2_ac.csv\n",
      "Renamed file: 0921 2 dc 2.csv -> 0921_2_dc_2.csv\n",
      "Filtered data saved at: C:\\Users\\user\\Desktop\\Drive파일\\HI Lab\\0. Projects\\0. On going\\1. ionic DC-TENG\\0. 실험자료\\6. data measurement\\250921\\csv파일\\0921_2_dc_2.csv\n",
      "Renamed file: 0921 2 dc.csv -> 0921_2_dc.csv\n"
     ]
    },
    {
     "name": "stderr",
     "output_type": "stream",
     "text": [
      "C:\\Users\\user\\AppData\\Local\\Temp\\ipykernel_25432\\3065148802.py:19: FutureWarning: DataFrame.applymap has been deprecated. Use DataFrame.map instead.\n",
      "  contains_text = preview.applymap(lambda x: isinstance(x, str)).any().any()\n",
      "C:\\Users\\user\\AppData\\Local\\Temp\\ipykernel_25432\\3065148802.py:19: FutureWarning: DataFrame.applymap has been deprecated. Use DataFrame.map instead.\n",
      "  contains_text = preview.applymap(lambda x: isinstance(x, str)).any().any()\n"
     ]
    },
    {
     "name": "stdout",
     "output_type": "stream",
     "text": [
      "Filtered data saved at: C:\\Users\\user\\Desktop\\Drive파일\\HI Lab\\0. Projects\\0. On going\\1. ionic DC-TENG\\0. 실험자료\\6. data measurement\\250921\\csv파일\\0921_2_dc.csv\n",
      "Renamed file: 0921 4 ac 2.csv -> 0921_4_ac_2.csv\n",
      "Filtered data saved at: C:\\Users\\user\\Desktop\\Drive파일\\HI Lab\\0. Projects\\0. On going\\1. ionic DC-TENG\\0. 실험자료\\6. data measurement\\250921\\csv파일\\0921_4_ac_2.csv\n",
      "Renamed file: 0921 4 ac.csv -> 0921_4_ac.csv\n"
     ]
    },
    {
     "name": "stderr",
     "output_type": "stream",
     "text": [
      "C:\\Users\\user\\AppData\\Local\\Temp\\ipykernel_25432\\3065148802.py:19: FutureWarning: DataFrame.applymap has been deprecated. Use DataFrame.map instead.\n",
      "  contains_text = preview.applymap(lambda x: isinstance(x, str)).any().any()\n",
      "C:\\Users\\user\\AppData\\Local\\Temp\\ipykernel_25432\\3065148802.py:19: FutureWarning: DataFrame.applymap has been deprecated. Use DataFrame.map instead.\n",
      "  contains_text = preview.applymap(lambda x: isinstance(x, str)).any().any()\n"
     ]
    },
    {
     "name": "stdout",
     "output_type": "stream",
     "text": [
      "Filtered data saved at: C:\\Users\\user\\Desktop\\Drive파일\\HI Lab\\0. Projects\\0. On going\\1. ionic DC-TENG\\0. 실험자료\\6. data measurement\\250921\\csv파일\\0921_4_ac.csv\n",
      "Renamed file: 0921 4 dc 2.csv -> 0921_4_dc_2.csv\n",
      "Filtered data saved at: C:\\Users\\user\\Desktop\\Drive파일\\HI Lab\\0. Projects\\0. On going\\1. ionic DC-TENG\\0. 실험자료\\6. data measurement\\250921\\csv파일\\0921_4_dc_2.csv\n",
      "Renamed file: 0921 4 dc.csv -> 0921_4_dc.csv\n"
     ]
    },
    {
     "name": "stderr",
     "output_type": "stream",
     "text": [
      "C:\\Users\\user\\AppData\\Local\\Temp\\ipykernel_25432\\3065148802.py:19: FutureWarning: DataFrame.applymap has been deprecated. Use DataFrame.map instead.\n",
      "  contains_text = preview.applymap(lambda x: isinstance(x, str)).any().any()\n",
      "C:\\Users\\user\\AppData\\Local\\Temp\\ipykernel_25432\\3065148802.py:19: FutureWarning: DataFrame.applymap has been deprecated. Use DataFrame.map instead.\n",
      "  contains_text = preview.applymap(lambda x: isinstance(x, str)).any().any()\n"
     ]
    },
    {
     "name": "stdout",
     "output_type": "stream",
     "text": [
      "Filtered data saved at: C:\\Users\\user\\Desktop\\Drive파일\\HI Lab\\0. Projects\\0. On going\\1. ionic DC-TENG\\0. 실험자료\\6. data measurement\\250921\\csv파일\\0921_4_dc.csv\n",
      "Renamed file: 0921 6 ac 2.csv -> 0921_6_ac_2.csv\n",
      "Filtered data saved at: C:\\Users\\user\\Desktop\\Drive파일\\HI Lab\\0. Projects\\0. On going\\1. ionic DC-TENG\\0. 실험자료\\6. data measurement\\250921\\csv파일\\0921_6_ac_2.csv\n",
      "Renamed file: 0921 6 ac.csv -> 0921_6_ac.csv\n"
     ]
    },
    {
     "name": "stderr",
     "output_type": "stream",
     "text": [
      "C:\\Users\\user\\AppData\\Local\\Temp\\ipykernel_25432\\3065148802.py:19: FutureWarning: DataFrame.applymap has been deprecated. Use DataFrame.map instead.\n",
      "  contains_text = preview.applymap(lambda x: isinstance(x, str)).any().any()\n",
      "C:\\Users\\user\\AppData\\Local\\Temp\\ipykernel_25432\\3065148802.py:19: FutureWarning: DataFrame.applymap has been deprecated. Use DataFrame.map instead.\n",
      "  contains_text = preview.applymap(lambda x: isinstance(x, str)).any().any()\n"
     ]
    },
    {
     "name": "stdout",
     "output_type": "stream",
     "text": [
      "Filtered data saved at: C:\\Users\\user\\Desktop\\Drive파일\\HI Lab\\0. Projects\\0. On going\\1. ionic DC-TENG\\0. 실험자료\\6. data measurement\\250921\\csv파일\\0921_6_ac.csv\n",
      "Renamed file: 0921 6 dc 2.csv -> 0921_6_dc_2.csv\n",
      "Filtered data saved at: C:\\Users\\user\\Desktop\\Drive파일\\HI Lab\\0. Projects\\0. On going\\1. ionic DC-TENG\\0. 실험자료\\6. data measurement\\250921\\csv파일\\0921_6_dc_2.csv\n",
      "Renamed file: 0921 6 dc.csv -> 0921_6_dc.csv\n"
     ]
    },
    {
     "name": "stderr",
     "output_type": "stream",
     "text": [
      "C:\\Users\\user\\AppData\\Local\\Temp\\ipykernel_25432\\3065148802.py:19: FutureWarning: DataFrame.applymap has been deprecated. Use DataFrame.map instead.\n",
      "  contains_text = preview.applymap(lambda x: isinstance(x, str)).any().any()\n",
      "C:\\Users\\user\\AppData\\Local\\Temp\\ipykernel_25432\\3065148802.py:19: FutureWarning: DataFrame.applymap has been deprecated. Use DataFrame.map instead.\n",
      "  contains_text = preview.applymap(lambda x: isinstance(x, str)).any().any()\n"
     ]
    },
    {
     "name": "stdout",
     "output_type": "stream",
     "text": [
      "Filtered data saved at: C:\\Users\\user\\Desktop\\Drive파일\\HI Lab\\0. Projects\\0. On going\\1. ionic DC-TENG\\0. 실험자료\\6. data measurement\\250921\\csv파일\\0921_6_dc.csv\n",
      "Renamed file: 0921 8 ac 2.csv -> 0921_8_ac_2.csv\n",
      "Filtered data saved at: C:\\Users\\user\\Desktop\\Drive파일\\HI Lab\\0. Projects\\0. On going\\1. ionic DC-TENG\\0. 실험자료\\6. data measurement\\250921\\csv파일\\0921_8_ac_2.csv\n",
      "Renamed file: 0921 8 ac.csv -> 0921_8_ac.csv\n"
     ]
    },
    {
     "name": "stderr",
     "output_type": "stream",
     "text": [
      "C:\\Users\\user\\AppData\\Local\\Temp\\ipykernel_25432\\3065148802.py:19: FutureWarning: DataFrame.applymap has been deprecated. Use DataFrame.map instead.\n",
      "  contains_text = preview.applymap(lambda x: isinstance(x, str)).any().any()\n",
      "C:\\Users\\user\\AppData\\Local\\Temp\\ipykernel_25432\\3065148802.py:19: FutureWarning: DataFrame.applymap has been deprecated. Use DataFrame.map instead.\n",
      "  contains_text = preview.applymap(lambda x: isinstance(x, str)).any().any()\n"
     ]
    },
    {
     "name": "stdout",
     "output_type": "stream",
     "text": [
      "Filtered data saved at: C:\\Users\\user\\Desktop\\Drive파일\\HI Lab\\0. Projects\\0. On going\\1. ionic DC-TENG\\0. 실험자료\\6. data measurement\\250921\\csv파일\\0921_8_ac.csv\n",
      "Renamed file: 0921 8 dc 2.csv -> 0921_8_dc_2.csv\n",
      "Filtered data saved at: C:\\Users\\user\\Desktop\\Drive파일\\HI Lab\\0. Projects\\0. On going\\1. ionic DC-TENG\\0. 실험자료\\6. data measurement\\250921\\csv파일\\0921_8_dc_2.csv\n",
      "Renamed file: 0921 8 dc.csv -> 0921_8_dc.csv\n"
     ]
    },
    {
     "name": "stderr",
     "output_type": "stream",
     "text": [
      "C:\\Users\\user\\AppData\\Local\\Temp\\ipykernel_25432\\3065148802.py:19: FutureWarning: DataFrame.applymap has been deprecated. Use DataFrame.map instead.\n",
      "  contains_text = preview.applymap(lambda x: isinstance(x, str)).any().any()\n",
      "C:\\Users\\user\\AppData\\Local\\Temp\\ipykernel_25432\\3065148802.py:19: FutureWarning: DataFrame.applymap has been deprecated. Use DataFrame.map instead.\n",
      "  contains_text = preview.applymap(lambda x: isinstance(x, str)).any().any()\n"
     ]
    },
    {
     "name": "stdout",
     "output_type": "stream",
     "text": [
      "Filtered data saved at: C:\\Users\\user\\Desktop\\Drive파일\\HI Lab\\0. Projects\\0. On going\\1. ionic DC-TENG\\0. 실험자료\\6. data measurement\\250921\\csv파일\\0921_8_dc.csv\n",
      "Renamed file: 0921 bopp1.csv -> 0921_bopp1.csv\n",
      "Filtered data saved at: C:\\Users\\user\\Desktop\\Drive파일\\HI Lab\\0. Projects\\0. On going\\1. ionic DC-TENG\\0. 실험자료\\6. data measurement\\250921\\csv파일\\0921_bopp1.csv\n",
      "Renamed file: 0921 bopp2.csv -> 0921_bopp2.csv\n"
     ]
    },
    {
     "name": "stderr",
     "output_type": "stream",
     "text": [
      "C:\\Users\\user\\AppData\\Local\\Temp\\ipykernel_25432\\3065148802.py:19: FutureWarning: DataFrame.applymap has been deprecated. Use DataFrame.map instead.\n",
      "  contains_text = preview.applymap(lambda x: isinstance(x, str)).any().any()\n",
      "C:\\Users\\user\\AppData\\Local\\Temp\\ipykernel_25432\\3065148802.py:19: FutureWarning: DataFrame.applymap has been deprecated. Use DataFrame.map instead.\n",
      "  contains_text = preview.applymap(lambda x: isinstance(x, str)).any().any()\n"
     ]
    },
    {
     "name": "stdout",
     "output_type": "stream",
     "text": [
      "Filtered data saved at: C:\\Users\\user\\Desktop\\Drive파일\\HI Lab\\0. Projects\\0. On going\\1. ionic DC-TENG\\0. 실험자료\\6. data measurement\\250921\\csv파일\\0921_bopp2.csv\n",
      "Renamed file: 0921 bopp3.csv -> 0921_bopp3.csv\n",
      "Filtered data saved at: C:\\Users\\user\\Desktop\\Drive파일\\HI Lab\\0. Projects\\0. On going\\1. ionic DC-TENG\\0. 실험자료\\6. data measurement\\250921\\csv파일\\0921_bopp3.csv\n",
      "Renamed file: 0921 fep1.csv -> 0921_fep1.csv\n"
     ]
    },
    {
     "name": "stderr",
     "output_type": "stream",
     "text": [
      "C:\\Users\\user\\AppData\\Local\\Temp\\ipykernel_25432\\3065148802.py:19: FutureWarning: DataFrame.applymap has been deprecated. Use DataFrame.map instead.\n",
      "  contains_text = preview.applymap(lambda x: isinstance(x, str)).any().any()\n",
      "C:\\Users\\user\\AppData\\Local\\Temp\\ipykernel_25432\\3065148802.py:19: FutureWarning: DataFrame.applymap has been deprecated. Use DataFrame.map instead.\n",
      "  contains_text = preview.applymap(lambda x: isinstance(x, str)).any().any()\n"
     ]
    },
    {
     "name": "stdout",
     "output_type": "stream",
     "text": [
      "Filtered data saved at: C:\\Users\\user\\Desktop\\Drive파일\\HI Lab\\0. Projects\\0. On going\\1. ionic DC-TENG\\0. 실험자료\\6. data measurement\\250921\\csv파일\\0921_fep1.csv\n",
      "Renamed file: 0921 fep2.csv -> 0921_fep2.csv\n",
      "Filtered data saved at: C:\\Users\\user\\Desktop\\Drive파일\\HI Lab\\0. Projects\\0. On going\\1. ionic DC-TENG\\0. 실험자료\\6. data measurement\\250921\\csv파일\\0921_fep2.csv\n",
      "Renamed file: 0921 fep3.csv -> 0921_fep3.csv\n"
     ]
    },
    {
     "name": "stderr",
     "output_type": "stream",
     "text": [
      "C:\\Users\\user\\AppData\\Local\\Temp\\ipykernel_25432\\3065148802.py:19: FutureWarning: DataFrame.applymap has been deprecated. Use DataFrame.map instead.\n",
      "  contains_text = preview.applymap(lambda x: isinstance(x, str)).any().any()\n",
      "C:\\Users\\user\\AppData\\Local\\Temp\\ipykernel_25432\\3065148802.py:19: FutureWarning: DataFrame.applymap has been deprecated. Use DataFrame.map instead.\n",
      "  contains_text = preview.applymap(lambda x: isinstance(x, str)).any().any()\n"
     ]
    },
    {
     "name": "stdout",
     "output_type": "stream",
     "text": [
      "Filtered data saved at: C:\\Users\\user\\Desktop\\Drive파일\\HI Lab\\0. Projects\\0. On going\\1. ionic DC-TENG\\0. 실험자료\\6. data measurement\\250921\\csv파일\\0921_fep3.csv\n",
      "Renamed file: 0921 pdms1.csv -> 0921_pdms1.csv\n",
      "Filtered data saved at: C:\\Users\\user\\Desktop\\Drive파일\\HI Lab\\0. Projects\\0. On going\\1. ionic DC-TENG\\0. 실험자료\\6. data measurement\\250921\\csv파일\\0921_pdms1.csv\n",
      "Renamed file: 0921 pdms2.csv -> 0921_pdms2.csv\n"
     ]
    },
    {
     "name": "stderr",
     "output_type": "stream",
     "text": [
      "C:\\Users\\user\\AppData\\Local\\Temp\\ipykernel_25432\\3065148802.py:19: FutureWarning: DataFrame.applymap has been deprecated. Use DataFrame.map instead.\n",
      "  contains_text = preview.applymap(lambda x: isinstance(x, str)).any().any()\n",
      "C:\\Users\\user\\AppData\\Local\\Temp\\ipykernel_25432\\3065148802.py:19: FutureWarning: DataFrame.applymap has been deprecated. Use DataFrame.map instead.\n",
      "  contains_text = preview.applymap(lambda x: isinstance(x, str)).any().any()\n"
     ]
    },
    {
     "name": "stdout",
     "output_type": "stream",
     "text": [
      "Filtered data saved at: C:\\Users\\user\\Desktop\\Drive파일\\HI Lab\\0. Projects\\0. On going\\1. ionic DC-TENG\\0. 실험자료\\6. data measurement\\250921\\csv파일\\0921_pdms2.csv\n",
      "Renamed file: 0921 pdms3.csv -> 0921_pdms3.csv\n",
      "Filtered data saved at: C:\\Users\\user\\Desktop\\Drive파일\\HI Lab\\0. Projects\\0. On going\\1. ionic DC-TENG\\0. 실험자료\\6. data measurement\\250921\\csv파일\\0921_pdms3.csv\n",
      "Renamed file: 0921 pet1.csv -> 0921_pet1.csv\n"
     ]
    },
    {
     "name": "stderr",
     "output_type": "stream",
     "text": [
      "C:\\Users\\user\\AppData\\Local\\Temp\\ipykernel_25432\\3065148802.py:19: FutureWarning: DataFrame.applymap has been deprecated. Use DataFrame.map instead.\n",
      "  contains_text = preview.applymap(lambda x: isinstance(x, str)).any().any()\n",
      "C:\\Users\\user\\AppData\\Local\\Temp\\ipykernel_25432\\3065148802.py:19: FutureWarning: DataFrame.applymap has been deprecated. Use DataFrame.map instead.\n",
      "  contains_text = preview.applymap(lambda x: isinstance(x, str)).any().any()\n"
     ]
    },
    {
     "name": "stdout",
     "output_type": "stream",
     "text": [
      "Filtered data saved at: C:\\Users\\user\\Desktop\\Drive파일\\HI Lab\\0. Projects\\0. On going\\1. ionic DC-TENG\\0. 실험자료\\6. data measurement\\250921\\csv파일\\0921_pet1.csv\n",
      "Renamed file: 0921 pet2.csv -> 0921_pet2.csv\n",
      "Filtered data saved at: C:\\Users\\user\\Desktop\\Drive파일\\HI Lab\\0. Projects\\0. On going\\1. ionic DC-TENG\\0. 실험자료\\6. data measurement\\250921\\csv파일\\0921_pet2.csv\n",
      "Renamed file: 0921 pet3.csv -> 0921_pet3.csv\n"
     ]
    },
    {
     "name": "stderr",
     "output_type": "stream",
     "text": [
      "C:\\Users\\user\\AppData\\Local\\Temp\\ipykernel_25432\\3065148802.py:19: FutureWarning: DataFrame.applymap has been deprecated. Use DataFrame.map instead.\n",
      "  contains_text = preview.applymap(lambda x: isinstance(x, str)).any().any()\n",
      "C:\\Users\\user\\AppData\\Local\\Temp\\ipykernel_25432\\3065148802.py:19: FutureWarning: DataFrame.applymap has been deprecated. Use DataFrame.map instead.\n",
      "  contains_text = preview.applymap(lambda x: isinstance(x, str)).any().any()\n"
     ]
    },
    {
     "name": "stdout",
     "output_type": "stream",
     "text": [
      "Filtered data saved at: C:\\Users\\user\\Desktop\\Drive파일\\HI Lab\\0. Projects\\0. On going\\1. ionic DC-TENG\\0. 실험자료\\6. data measurement\\250921\\csv파일\\0921_pet3.csv\n",
      "Renamed file: 0921 pi1.csv -> 0921_pi1.csv\n",
      "Filtered data saved at: C:\\Users\\user\\Desktop\\Drive파일\\HI Lab\\0. Projects\\0. On going\\1. ionic DC-TENG\\0. 실험자료\\6. data measurement\\250921\\csv파일\\0921_pi1.csv\n",
      "Renamed file: 0921 pi2.csv -> 0921_pi2.csv\n"
     ]
    },
    {
     "name": "stderr",
     "output_type": "stream",
     "text": [
      "C:\\Users\\user\\AppData\\Local\\Temp\\ipykernel_25432\\3065148802.py:19: FutureWarning: DataFrame.applymap has been deprecated. Use DataFrame.map instead.\n",
      "  contains_text = preview.applymap(lambda x: isinstance(x, str)).any().any()\n",
      "C:\\Users\\user\\AppData\\Local\\Temp\\ipykernel_25432\\3065148802.py:19: FutureWarning: DataFrame.applymap has been deprecated. Use DataFrame.map instead.\n",
      "  contains_text = preview.applymap(lambda x: isinstance(x, str)).any().any()\n"
     ]
    },
    {
     "name": "stdout",
     "output_type": "stream",
     "text": [
      "Filtered data saved at: C:\\Users\\user\\Desktop\\Drive파일\\HI Lab\\0. Projects\\0. On going\\1. ionic DC-TENG\\0. 실험자료\\6. data measurement\\250921\\csv파일\\0921_pi2.csv\n",
      "Renamed file: 0921 pi3.csv -> 0921_pi3.csv\n",
      "Filtered data saved at: C:\\Users\\user\\Desktop\\Drive파일\\HI Lab\\0. Projects\\0. On going\\1. ionic DC-TENG\\0. 실험자료\\6. data measurement\\250921\\csv파일\\0921_pi3.csv\n",
      "Renamed file: 0921 ptfe1.csv -> 0921_ptfe1.csv\n"
     ]
    },
    {
     "name": "stderr",
     "output_type": "stream",
     "text": [
      "C:\\Users\\user\\AppData\\Local\\Temp\\ipykernel_25432\\3065148802.py:19: FutureWarning: DataFrame.applymap has been deprecated. Use DataFrame.map instead.\n",
      "  contains_text = preview.applymap(lambda x: isinstance(x, str)).any().any()\n",
      "C:\\Users\\user\\AppData\\Local\\Temp\\ipykernel_25432\\3065148802.py:19: FutureWarning: DataFrame.applymap has been deprecated. Use DataFrame.map instead.\n",
      "  contains_text = preview.applymap(lambda x: isinstance(x, str)).any().any()\n"
     ]
    },
    {
     "name": "stdout",
     "output_type": "stream",
     "text": [
      "Filtered data saved at: C:\\Users\\user\\Desktop\\Drive파일\\HI Lab\\0. Projects\\0. On going\\1. ionic DC-TENG\\0. 실험자료\\6. data measurement\\250921\\csv파일\\0921_ptfe1.csv\n",
      "Renamed file: 0921 ptfe2.csv -> 0921_ptfe2.csv\n",
      "Filtered data saved at: C:\\Users\\user\\Desktop\\Drive파일\\HI Lab\\0. Projects\\0. On going\\1. ionic DC-TENG\\0. 실험자료\\6. data measurement\\250921\\csv파일\\0921_ptfe2.csv\n",
      "Renamed file: 0921 ptfe3.csv -> 0921_ptfe3.csv\n"
     ]
    },
    {
     "name": "stderr",
     "output_type": "stream",
     "text": [
      "C:\\Users\\user\\AppData\\Local\\Temp\\ipykernel_25432\\3065148802.py:19: FutureWarning: DataFrame.applymap has been deprecated. Use DataFrame.map instead.\n",
      "  contains_text = preview.applymap(lambda x: isinstance(x, str)).any().any()\n",
      "C:\\Users\\user\\AppData\\Local\\Temp\\ipykernel_25432\\3065148802.py:19: FutureWarning: DataFrame.applymap has been deprecated. Use DataFrame.map instead.\n",
      "  contains_text = preview.applymap(lambda x: isinstance(x, str)).any().any()\n"
     ]
    },
    {
     "name": "stdout",
     "output_type": "stream",
     "text": [
      "Filtered data saved at: C:\\Users\\user\\Desktop\\Drive파일\\HI Lab\\0. Projects\\0. On going\\1. ionic DC-TENG\\0. 실험자료\\6. data measurement\\250921\\csv파일\\0921_ptfe3.csv\n"
     ]
    }
   ],
   "source": [
    "# 해당 폴더 내 모든 CSV 파일 가져오기\n",
    "csv_files = glob.glob(os.path.join(folder_path, \"*.csv\"))\n",
    "\n",
    "for file_path in csv_files:\n",
    "    try:\n",
    "        # 파일명에서 공백이 있으면 _로 대체\n",
    "        dir_name, file_name = os.path.split(file_path)\n",
    "        new_file_name = file_name.replace(' ', '_')\n",
    "        new_file_path = os.path.join(dir_name, new_file_name)\n",
    "\n",
    "        # 파일명 변경 (공백이 있을 경우에만)\n",
    "        if file_name != new_file_name:\n",
    "            os.rename(file_path, new_file_path)\n",
    "            print(f\"Renamed file: {file_name} -> {new_file_name}\")\n",
    "            file_path = new_file_path  # 경로 업데이트\n",
    "\n",
    "        # ---- 안전장치: 처음 30줄 확인 ----\n",
    "        preview = pd.read_csv(file_path, header=None, nrows=30)\n",
    "        contains_text = preview.applymap(lambda x: isinstance(x, str)).any().any()\n",
    "\n",
    "        if not contains_text:\n",
    "            print(f\"Skipped (이미 처리된 파일입니다.): {file_path}\")\n",
    "            continue\n",
    "        # ----------------------------------\n",
    "\n",
    "        # Pandas로 21줄 스킵해서 로드\n",
    "        df = pd.read_csv(file_path, header=None, skiprows=21)\n",
    "\n",
    "        # 숫자 변환 + NaN 제거\n",
    "        df = df.apply(pd.to_numeric, errors='coerce').dropna()\n",
    "\n",
    "        if df.empty:\n",
    "            print(f\"No valid data in {file_path}\")\n",
    "            continue\n",
    "\n",
    "        # NumPy 변환\n",
    "        data = df.values\n",
    "\n",
    "        # 시간 재계산\n",
    "        num_rows = data.shape[0]\n",
    "        if num_rows > 1:\n",
    "            start_time = data[0, 0]\n",
    "            end_time = data[-1, 0]\n",
    "            time_interval = (end_time - start_time) / (num_rows - 1)\n",
    "            time_col = np.arange(num_rows) * time_interval\n",
    "        else:\n",
    "            time_col = np.array([0.0])\n",
    "\n",
    "        # 새 데이터 생성\n",
    "        new_data = np.column_stack((time_col, data[:, 1]))\n",
    "\n",
    "        # 파일 저장 (덮어쓰기)\n",
    "        np.savetxt(file_path, new_data, delimiter=',', fmt='%.10f')\n",
    "\n",
    "        print(f\"Filtered data saved at: {file_path}\")\n",
    "\n",
    "    except Exception as e:\n",
    "        print(f\"Error processing {file_path}: {e}\")"
   ]
  }
 ],
 "metadata": {
  "kernelspec": {
   "display_name": "Python 3",
   "language": "python",
   "name": "python3"
  },
  "language_info": {
   "codemirror_mode": {
    "name": "ipython",
    "version": 3
   },
   "file_extension": ".py",
   "mimetype": "text/x-python",
   "name": "python",
   "nbconvert_exporter": "python",
   "pygments_lexer": "ipython3",
   "version": "3.11.9"
  }
 },
 "nbformat": 4,
 "nbformat_minor": 2
}
