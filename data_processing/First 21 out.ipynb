{
 "cells": [
  {
   "cell_type": "code",
   "execution_count": 1,
   "metadata": {},
   "outputs": [],
   "source": [
    "# made by Gibeom LEE, HI LAB\n",
    "# 한 폴더안에 모든 csv파일의 맨 처음부터 21번째 행까지를 지웁니다. (오실로스코프 정보)\n",
    "# 또한, 시작하는 시간을 0초 부터 시작하게 합니다.\n",
    "# 한 파일을 중복해서 지우지 않게 주의하세요."
   ]
  },
  {
   "cell_type": "code",
   "execution_count": 2,
   "metadata": {},
   "outputs": [],
   "source": [
    "import pandas as pd\n",
    "import numpy as np\n",
    "import os\n",
    "import glob  # 폴더 내 파일 리스트 가져오는 라이브러리"
   ]
  },
  {
   "cell_type": "code",
   "execution_count": 3,
   "metadata": {},
   "outputs": [
    {
     "name": "stdout",
     "output_type": "stream",
     "text": [
      "Filtered data saved at: C:\\Users\\GCU\\OneDrive - gachon.ac.kr\\HI Lab\\0. Projects\\0. On going\\2. Aloe inspired DEG\\0. 실험자료\\3. Material selection\\250728_PFPE로도 측정\\csv파일\\A1PFPE_4cm.csv\n",
      "Filtered data saved at: C:\\Users\\GCU\\OneDrive - gachon.ac.kr\\HI Lab\\0. Projects\\0. On going\\2. Aloe inspired DEG\\0. 실험자료\\3. Material selection\\250728_PFPE로도 측정\\csv파일\\OTSPFPE_4cm.csv\n",
      "Filtered data saved at: C:\\Users\\GCU\\OneDrive - gachon.ac.kr\\HI Lab\\0. Projects\\0. On going\\2. Aloe inspired DEG\\0. 실험자료\\3. Material selection\\250728_PFPE로도 측정\\csv파일\\OTS_4cm.csv\n",
      "Filtered data saved at: C:\\Users\\GCU\\OneDrive - gachon.ac.kr\\HI Lab\\0. Projects\\0. On going\\2. Aloe inspired DEG\\0. 실험자료\\3. Material selection\\250728_PFPE로도 측정\\csv파일\\PDMS_4cm.csv\n"
     ]
    }
   ],
   "source": [
    "# 파일이 있는 폴더 경로\n",
    "folder_path = r\"C:\\Users\\GCU\\OneDrive - gachon.ac.kr\\HI Lab\\0. Projects\\0. On going\\2. Aloe inspired DEG\\0. 실험자료\\3. Material selection\\250728_PFPE로도 측정\\csv파일\"\n",
    "\n",
    "# 해당 폴더 내 모든 CSV 파일 가져오기\n",
    "csv_files = glob.glob(os.path.join(folder_path, \"*.csv\"))\n",
    "\n",
    "for file_path in csv_files:\n",
    "    try:\n",
    "        # 파일명에서 공백이 있으면 _로 대체\n",
    "        dir_name, file_name = os.path.split(file_path)\n",
    "        new_file_name = file_name.replace(' ', '_')\n",
    "        new_file_path = os.path.join(dir_name, new_file_name)\n",
    "\n",
    "        # 파일명 변경 (파일이름에 공백이 있는 경우에만)\n",
    "        if file_name != new_file_name:\n",
    "            os.rename(file_path, new_file_path)\n",
    "            print(f\"Renamed file: {file_name} -> {new_file_name}\")\n",
    "            file_path = new_file_path  # 이후 처리 파일 경로 업데이트\n",
    "\n",
    "        # Pandas로 21줄 스킵해서 로드\n",
    "        df = pd.read_csv(file_path, header=None, skiprows=21)\n",
    "\n",
    "        # 숫자 변환 + NaN 제거\n",
    "        df = df.apply(pd.to_numeric, errors='coerce').dropna()\n",
    "\n",
    "        if df.empty:\n",
    "            print(f\"No valid data in {file_path}\")\n",
    "            continue\n",
    "\n",
    "        # NumPy 변환\n",
    "        data = df.values\n",
    "\n",
    "        # 시간 재계산\n",
    "        num_rows = data.shape[0]\n",
    "        if num_rows > 1:\n",
    "            start_time = data[0, 0]\n",
    "            end_time = data[-1, 0]\n",
    "            time_interval = (end_time - start_time) / (num_rows - 1)\n",
    "            time_col = np.arange(num_rows) * time_interval\n",
    "        else:\n",
    "            time_col = np.array([0.0])\n",
    "\n",
    "        # 새 데이터 생성\n",
    "        new_data = np.column_stack((time_col, data[:, 1]))\n",
    "\n",
    "        # 파일 저장 (덮어쓰기)\n",
    "        np.savetxt(file_path, new_data, delimiter=',', fmt='%.10f')\n",
    "\n",
    "        print(f\"Filtered data saved at: {file_path}\")\n",
    "\n",
    "    except Exception as e:\n",
    "        print(f\"Error processing {file_path}: {e}\")\n"
   ]
  }
 ],
 "metadata": {
  "kernelspec": {
   "display_name": "Python 3",
   "language": "python",
   "name": "python3"
  },
  "language_info": {
   "codemirror_mode": {
    "name": "ipython",
    "version": 3
   },
   "file_extension": ".py",
   "mimetype": "text/x-python",
   "name": "python",
   "nbconvert_exporter": "python",
   "pygments_lexer": "ipython3",
   "version": "3.11.9"
  }
 },
 "nbformat": 4,
 "nbformat_minor": 2
}
