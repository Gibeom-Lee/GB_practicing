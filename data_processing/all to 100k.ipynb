{
 "cells": [
  {
   "cell_type": "code",
   "execution_count": 4,
   "metadata": {},
   "outputs": [],
   "source": [
    "# made by Gibeom LEE, HI LAB\n",
    "# 1M to 100k.ipynb 와 달리, folder_path안에 있는 모든 csv파일을 전부 축소 시켜줘서, 다른 폴더에 저장해주는 코드입니다."
   ]
  },
  {
   "cell_type": "code",
   "execution_count": 5,
   "metadata": {},
   "outputs": [],
   "source": [
    "import os\n",
    "import glob\n",
    "import numpy as np\n",
    "import pandas as pd\n",
    "from scipy.signal import find_peaks"
   ]
  },
  {
   "cell_type": "code",
   "execution_count": 6,
   "metadata": {},
   "outputs": [
    {
     "name": "stdout",
     "output_type": "stream",
     "text": [
      "F_Dode_01.csv → Peak count: 8065\n",
      "F_Dode_02.csv → Peak count: 7832\n",
      "F_Dode_03.csv → Peak count: 7976\n",
      "F_Dode_04.csv → Peak count: 7819\n",
      "F_Dode_05.csv → Peak count: 7780\n",
      "F_Dode_06.csv → Peak count: 7697\n",
      "F_Dode_07.csv → Peak count: 7761\n",
      "F_Dode_08.csv → Peak count: 7792\n",
      "F_Dode_09.csv → Peak count: 7988\n",
      "F_Dode_10.csv → Peak count: 8154\n",
      "F_Dode_11.csv → Peak count: 8039\n",
      "F_Dode_12.csv → Peak count: 7939\n",
      "F_Dode_13.csv → Peak count: 7934\n",
      "F_Dode_14.csv → Peak count: 8041\n",
      "F_Dode_15.csv → Peak count: 8171\n",
      "F_Dode_16.csv → Peak count: 8123\n",
      "F_Hex_01.csv → Peak count: 8149\n",
      "F_Hex_02.csv → Peak count: 8426\n",
      "F_Hex_03.csv → Peak count: 8074\n",
      "F_Hex_04.csv → Peak count: 8326\n",
      "F_Hex_05.csv → Peak count: 8259\n",
      "F_Hex_06.csv → Peak count: 7957\n",
      "F_LHex_01.csv → Peak count: 7967\n",
      "F_LHex_02.csv → Peak count: 8182\n",
      "F_LHex_03.csv → Peak count: 7980\n",
      "F_LHex_04.csv → Peak count: 8340\n",
      "F_OTS_02.csv → Peak count: 7871\n",
      "F_OTS_04.csv → Peak count: 8019\n",
      "F_OTS_06.csv → Peak count: 8244\n",
      "F_OTS_08.csv → Peak count: 7957\n",
      "F_OTS_10.csv → Peak count: 8169\n",
      "F_PDMS_2.csv → Peak count: 7732\n",
      "F_PDMS_4.csv → Peak count: 7701\n",
      "F_PDMS_6.csv → Peak count: 7796\n"
     ]
    }
   ],
   "source": [
    "# 원본 CSV 파일이 있는 폴더 경로\n",
    "folder_path = r\"C:\\Users\\GCU\\OneDrive - gachon.ac.kr\\HI Lab\\0. Projects\\0. On going\\2. Aloe inspired DEG\\0. 실험자료\\3. Material selection\\250809_hexadecane 탐구\\Flat에 비교 (이상함)\"\n",
    "\n",
    "# 결과를 저장할 새 폴더 경로 생성\n",
    "parent_dir = os.path.dirname(folder_path)\n",
    "original_folder_name = os.path.basename(folder_path)\n",
    "new_folder_name = f\"minimized_{original_folder_name}\"\n",
    "output_folder = os.path.join(parent_dir, new_folder_name)\n",
    "os.makedirs(output_folder, exist_ok=True)\n",
    "\n",
    "# 모든 CSV 파일 경로 수집\n",
    "csv_files = glob.glob(os.path.join(folder_path, \"*.csv\"))\n",
    "\n",
    "# 파라미터 설정\n",
    "height = 0.01  # 피크 감지 기준 전압 크기 (노이즈 레벨 고려)\n",
    "num_samples = 10000 # 최종 줄이고자 하는 행 수\n",
    "\n",
    "for file_path in csv_files:\n",
    "    try:\n",
    "        # CSV 파일 읽기 (헤더 없음)\n",
    "        df = pd.read_csv(file_path, header=None, names=[\"Time\", \"Voltage\"], skiprows=2)\n",
    "\n",
    "        # 피크 검출\n",
    "        peaks_positive, _ = find_peaks(df[\"Voltage\"], height=height, distance=100)\n",
    "        peaks_negative, _ = find_peaks(-df[\"Voltage\"], height=height, distance=100)\n",
    "        peaks = np.sort(np.concatenate((peaks_positive, peaks_negative)))\n",
    "\n",
    "        # 피크 개수 확인\n",
    "        num_peaks = len(peaks)\n",
    "        print(f\"{os.path.basename(file_path)} → Peak count: {num_peaks}\")\n",
    "\n",
    "        if num_peaks >= num_samples:\n",
    "            selected_indices = np.sort(np.random.choice(peaks, num_samples, replace=False))\n",
    "        else:\n",
    "            num_non_peak_samples = num_samples - num_peaks\n",
    "            non_peak_indices = np.setdiff1d(np.arange(len(df)), peaks)\n",
    "            selected_non_peaks = np.linspace(0, len(non_peak_indices) - 1, num_non_peak_samples, dtype=int)\n",
    "            selected_non_peaks = non_peak_indices[selected_non_peaks]\n",
    "\n",
    "            selected_indices = np.sort(np.concatenate((peaks, selected_non_peaks)))\n",
    "\n",
    "        # 축소된 데이터 생성\n",
    "        filtered_df = df.iloc[selected_indices]\n",
    "\n",
    "        # 새 파일 이름 및 저장 경로\n",
    "        filename = os.path.basename(file_path)\n",
    "        save_path = os.path.join(output_folder, filename)\n",
    "        filtered_df.to_csv(save_path, index=False, header=False)\n",
    "\n",
    "    except Exception as e:\n",
    "        print(f\"Error processing {file_path}: {e}\")"
   ]
  }
 ],
 "metadata": {
  "kernelspec": {
   "display_name": "Python 3",
   "language": "python",
   "name": "python3"
  },
  "language_info": {
   "codemirror_mode": {
    "name": "ipython",
    "version": 3
   },
   "file_extension": ".py",
   "mimetype": "text/x-python",
   "name": "python",
   "nbconvert_exporter": "python",
   "pygments_lexer": "ipython3",
   "version": "3.11.9"
  }
 },
 "nbformat": 4,
 "nbformat_minor": 2
}
