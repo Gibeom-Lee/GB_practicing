{
 "cells": [
  {
   "cell_type": "code",
   "execution_count": 2,
   "metadata": {},
   "outputs": [],
   "source": [
    "# made by Gibeom LEE, HI LAB\n",
    "# 1M to 100k.ipynb 와 달리, folder_path안에 있는 모든 csv파일을 전부 축소 시켜줘서, 다른 폴더에 저장해주는 코드입니다."
   ]
  },
  {
   "cell_type": "code",
   "execution_count": 3,
   "metadata": {},
   "outputs": [],
   "source": [
    "import os\n",
    "import glob\n",
    "import numpy as np\n",
    "import pandas as pd\n",
    "from scipy.signal import find_peaks"
   ]
  },
  {
   "cell_type": "code",
   "execution_count": 4,
   "metadata": {},
   "outputs": [
    {
     "name": "stdout",
     "output_type": "stream",
     "text": [
      "A_Dodecane_2cm.csv → Peak count: 7549\n",
      "A_Dodecane_2cm_12Hz.csv → Peak count: 7601\n",
      "A_Dodecane_4cm.csv → Peak count: 7544\n",
      "A_Dodecane_4cm_12Hz.csv → Peak count: 7593\n",
      "A_Dodecane_4cm_16Hz_1min.csv → Peak count: 7580\n",
      "A_Dodecane_4cm_16Hz_5min.csv → Peak count: 7196\n",
      "A_Dodecane_6cm.csv → Peak count: 7585\n",
      "A_Dodecane_6cm_12Hz.csv → Peak count: 7619\n",
      "A_Dodecane_8cm.csv → Peak count: 7527\n",
      "A_Dodecane_8cm_12Hz.csv → Peak count: 7604\n",
      "A_lessPFPE_2cm.csv → Peak count: 7367\n",
      "A_lessPFPE_4cm.csv → Peak count: 7271\n",
      "A_lessPFPE_6cm.csv → Peak count: 7310\n",
      "A_lessPFPE_8cm.csv → Peak count: 7499\n",
      "A_muchPFPE_2cm.csv → Peak count: 7646\n",
      "A_muchPFPE_4cm.csv → Peak count: 7539\n",
      "A_muchPFPE_6cm.csv → Peak count: 7425\n",
      "A_muchPFPE_8cm.csv → Peak count: 7524\n",
      "A_PDMS_2cm.csv → Peak count: 7020\n",
      "A_PDMS_4cm.csv → Peak count: 7388\n",
      "A_PDMS_6cm.csv → Peak count: 6124\n",
      "A_PDMS_8cm.csv → Peak count: 6107\n",
      "F_lessPFPE_2cm.csv → Peak count: 7577\n",
      "F_lessPFPE_4cm.csv → Peak count: 7263\n",
      "F_lessPFPE_6cm.csv → Peak count: 7185\n",
      "F_lessPFPE_8cm.csv → Peak count: 7241\n",
      "F_muchPFPE_2cm.csv → Peak count: 7529\n",
      "F_muchPFPE_4cm.csv → Peak count: 7535\n",
      "F_muchPFPE_6cm.csv → Peak count: 7526\n",
      "F_muchPFPE_8cm.csv → Peak count: 7492\n",
      "F_PDMS_2cm.csv → Peak count: 6528\n",
      "F_PDMS_4cm.csv → Peak count: 7564\n",
      "F_PDMS_6cm.csv → Peak count: 6352\n",
      "F_PDMS_8cm.csv → Peak count: 6145\n",
      "PDMS_2cm.csv → Peak count: 7711\n"
     ]
    }
   ],
   "source": [
    "# 원본 CSV 파일이 있는 폴더 경로\n",
    "folder_path = r\"C:\\Users\\GCU\\OneDrive - gachon.ac.kr\\HI Lab\\0. Projects\\0. On going\\2. Aloe inspired DEG\\0. 실험자료\\3. Material selection\\250802_flat 비교 및 dodecane 재평가\\csv파일\"\n",
    "\n",
    "# 결과를 저장할 새 폴더 경로 생성\n",
    "parent_dir = os.path.dirname(folder_path)\n",
    "original_folder_name = os.path.basename(folder_path)\n",
    "new_folder_name = f\"minimized_{original_folder_name}\"\n",
    "output_folder = os.path.join(parent_dir, new_folder_name)\n",
    "os.makedirs(output_folder, exist_ok=True)\n",
    "\n",
    "# 모든 CSV 파일 경로 수집\n",
    "csv_files = glob.glob(os.path.join(folder_path, \"*.csv\"))\n",
    "\n",
    "# 파라미터 설정\n",
    "height = 0.01  # 피크 감지 기준 전압 크기 (노이즈 레벨 고려)\n",
    "num_samples = 10000 # 최종 줄이고자 하는 행 수\n",
    "\n",
    "for file_path in csv_files:\n",
    "    try:\n",
    "        # CSV 파일 읽기 (헤더 없음)\n",
    "        df = pd.read_csv(file_path, header=None, names=[\"Time\", \"Voltage\"], skiprows=2)\n",
    "\n",
    "        # 피크 검출\n",
    "        peaks_positive, _ = find_peaks(df[\"Voltage\"], height=height, distance=100)\n",
    "        peaks_negative, _ = find_peaks(-df[\"Voltage\"], height=height, distance=100)\n",
    "        peaks = np.sort(np.concatenate((peaks_positive, peaks_negative)))\n",
    "\n",
    "        # 피크 개수 확인\n",
    "        num_peaks = len(peaks)\n",
    "        print(f\"{os.path.basename(file_path)} → Peak count: {num_peaks}\")\n",
    "\n",
    "        if num_peaks >= num_samples:\n",
    "            selected_indices = np.sort(np.random.choice(peaks, num_samples, replace=False))\n",
    "        else:\n",
    "            num_non_peak_samples = num_samples - num_peaks\n",
    "            non_peak_indices = np.setdiff1d(np.arange(len(df)), peaks)\n",
    "            selected_non_peaks = np.linspace(0, len(non_peak_indices) - 1, num_non_peak_samples, dtype=int)\n",
    "            selected_non_peaks = non_peak_indices[selected_non_peaks]\n",
    "\n",
    "            selected_indices = np.sort(np.concatenate((peaks, selected_non_peaks)))\n",
    "\n",
    "        # 축소된 데이터 생성\n",
    "        filtered_df = df.iloc[selected_indices]\n",
    "\n",
    "        # 새 파일 이름 및 저장 경로\n",
    "        filename = os.path.basename(file_path)\n",
    "        save_path = os.path.join(output_folder, filename)\n",
    "        filtered_df.to_csv(save_path, index=False, header=False)\n",
    "\n",
    "    except Exception as e:\n",
    "        print(f\"Error processing {file_path}: {e}\")"
   ]
  }
 ],
 "metadata": {
  "kernelspec": {
   "display_name": "Python 3",
   "language": "python",
   "name": "python3"
  },
  "language_info": {
   "codemirror_mode": {
    "name": "ipython",
    "version": 3
   },
   "file_extension": ".py",
   "mimetype": "text/x-python",
   "name": "python",
   "nbconvert_exporter": "python",
   "pygments_lexer": "ipython3",
   "version": "3.11.9"
  }
 },
 "nbformat": 4,
 "nbformat_minor": 2
}
