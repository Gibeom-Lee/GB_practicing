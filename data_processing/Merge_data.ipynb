{
 "cells": [
  {
   "cell_type": "code",
   "execution_count": 9,
   "id": "146f8ded",
   "metadata": {},
   "outputs": [],
   "source": [
    "# made by Gibeom LEE, HI LAB\n",
    "# csv파일 여러개를 일정한 간격을 두어 합쳐줍니다. (다른 열)"
   ]
  },
  {
   "cell_type": "code",
   "execution_count": 10,
   "id": "60fbcf53",
   "metadata": {},
   "outputs": [],
   "source": [
    "import os\n",
    "import pandas as pd\n",
    "import numpy as np\n",
    "import glob"
   ]
  },
  {
   "cell_type": "code",
   "execution_count": 11,
   "id": "333de8ed",
   "metadata": {},
   "outputs": [],
   "source": [
    "# 설정 ----------------------------\n",
    "folder = r\"C:\\Users\\user\\Desktop\\Drive파일\\HI Lab\\0. Projects\\0. On going\\2. Aloe inspired DEG\\0. 실험자료\\4. Data measurement\\250904_다 찍기\\csv파일\\코팅별 전압\\minimized_CUt\"\n",
    "\n",
    "file_name_str = \"Pristine_4cm_1.83Hz Coated_4cm_1.74Hz Pristine_4cm_2.44Hz Coated_4cm_2.65Hz Pristine_4cm_Many Coated_4cm_3.98Hz\"  # 폴더 내에 일부 파일만 변경하려면 파일명 기입 필요\n",
    "\n",
    "gap_ratio = 0.2  # 각 파일 사이의 시간 간격 비율 ex) 20%\n"
   ]
  },
  {
   "cell_type": "code",
   "execution_count": 12,
   "id": "67618af4",
   "metadata": {},
   "outputs": [
    {
     "name": "stdout",
     "output_type": "stream",
     "text": [
      "✅ 시간축 간격을 적용하여 병합된 파일이 저장되었습니다: C:\\Users\\user\\Desktop\\Drive파일\\HI Lab\\0. Projects\\0. On going\\2. Aloe inspired DEG\\0. 실험자료\\4. Data measurement\\250904_다 찍기\\csv파일\\코팅별 전압\\minimized_CUt\\minimized_CUt_merge.csv\n"
     ]
    }
   ],
   "source": [
    "# 폴더 이름 추출\n",
    "folder_name = os.path.basename(folder)\n",
    "output_filename = f\"{folder_name}_merge.csv\"\n",
    "output_path = os.path.join(folder, output_filename)\n",
    "\n",
    "# 병합 함수 -----------------------\n",
    "def merge_data(file_name_str, folder, output_path, gap_ratio):\n",
    "    file_names = file_name_str.split()\n",
    "    \n",
    "    # 폴더 내 일부 csv가져오기\n",
    "    #file_paths = [os.path.join(folder, f\"{name}.csv\") for name in file_names]\n",
    "    # 폴더 내 모든 csv가져오기 %%%%%%%%%%%%%%%%%%%%%% 00Merge 파일 없애고 실행시킬것!!! %%%%%%%%%%%%%%%%%\n",
    "    file_paths = glob.glob(os.path.join(folder, \"*.csv\"))\n",
    "    \n",
    "    dataframes = [pd.read_csv(fp, header=None) for fp in file_paths]\n",
    "    shifted_data = []  # 이동된 시간축 데이터 저장용\n",
    "    current_time_offset = 0.0  # 누적 시간 offset\n",
    "\n",
    "    for i, df in enumerate(dataframes):\n",
    "        time_vals = df.iloc[:, 0].values\n",
    "        voltage_vals = df.iloc[:, 1].values\n",
    "\n",
    "        # 현재 파일 시간 누적 shift\n",
    "        shifted_time = time_vals + current_time_offset\n",
    "\n",
    "        # 데이터프레임으로 저장\n",
    "        shifted_df = pd.DataFrame({\n",
    "            \"Time\": shifted_time,\n",
    "            f\"V{i+1}\": voltage_vals\n",
    "        })\n",
    "        shifted_data.append(shifted_df)\n",
    "\n",
    "        # 시간 이동 계산을 위한 값 추출\n",
    "        last_time = time_vals[-1]\n",
    "        rounded_duration = round(last_time)  # 이 파일의 총 시간(정수 기준)\n",
    "        time_gap = rounded_duration * gap_ratio\n",
    "\n",
    "        # 다음 파일을 위한 누적 offset 업데이트\n",
    "        current_time_offset += rounded_duration + time_gap\n",
    "\n",
    "    # 병합: 시간 기준 outer join\n",
    "    merged_df = shifted_data[0]\n",
    "    for df in shifted_data[1:]:\n",
    "        merged_df = pd.merge(merged_df, df, on=\"Time\", how=\"outer\")\n",
    "\n",
    "    # 정렬 및 저장\n",
    "    merged_df = merged_df.sort_values(\"Time\").reset_index(drop=True)\n",
    "    merged_df.to_csv(output_path, index=False, header=False, float_format=\"%.6f\")\n",
    "\n",
    "    print(f\"✅ 시간축 간격을 적용하여 병합된 파일이 저장되었습니다: {output_path}\")\n",
    "\n",
    "\n",
    "# 실행 ----------------------------\n",
    "merge_data(file_name_str, folder, output_path, gap_ratio)"
   ]
  }
 ],
 "metadata": {
  "kernelspec": {
   "display_name": "Python 3",
   "language": "python",
   "name": "python3"
  },
  "language_info": {
   "codemirror_mode": {
    "name": "ipython",
    "version": 3
   },
   "file_extension": ".py",
   "mimetype": "text/x-python",
   "name": "python",
   "nbconvert_exporter": "python",
   "pygments_lexer": "ipython3",
   "version": "3.11.9"
  }
 },
 "nbformat": 4,
 "nbformat_minor": 5
}
