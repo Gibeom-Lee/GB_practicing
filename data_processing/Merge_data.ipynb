{
 "cells": [
  {
   "cell_type": "code",
   "execution_count": 24,
   "id": "146f8ded",
   "metadata": {},
   "outputs": [],
   "source": [
    "# made by Gibeom LEE, HI LAB\n",
    "# csv파일 여러개를 일정한 간격을 두어 합쳐줍니다. (다른 열)"
   ]
  },
  {
   "cell_type": "code",
   "execution_count": 25,
   "id": "60fbcf53",
   "metadata": {},
   "outputs": [],
   "source": [
    "import os\n",
    "import pandas as pd\n",
    "import numpy as np"
   ]
  },
  {
   "cell_type": "code",
   "execution_count": 28,
   "id": "333de8ed",
   "metadata": {},
   "outputs": [],
   "source": [
    "#폴더, 파일명, 간격 범위 기입\n",
    "folder = r\"C:\\Users\\GCU\\OneDrive - gachon.ac.kr\\HI Lab\\0. Projects\\0. On going\\2. Aloe inspired DEG\\0. 실험자료\\2. Collecting data\\250629_O-I-Rinsing 유무 차이 (poor)\\minimized_csv파일\"\n",
    "\n",
    "file_name_str = \"NO_RINSING_2 RINSING_2\" #\"\" 안에 하나의 csv파일\n",
    "\n",
    "gap_value = 0.2 #0.2 = 20 % 만큼 행 띄우기"
   ]
  },
  {
   "cell_type": "code",
   "execution_count": 29,
   "id": "67618af4",
   "metadata": {},
   "outputs": [
    {
     "name": "stdout",
     "output_type": "stream",
     "text": [
      "자동 계산된 time_gap: 0.000100\n",
      "병합된 파일이 저장되었습니다: C:\\Users\\GCU\\OneDrive - gachon.ac.kr\\HI Lab\\0. Projects\\0. On going\\2. Aloe inspired DEG\\0. 실험자료\\2. Collecting data\\250629_O-I-Rinsing 유무 차이 (poor)\\minimized_csv파일\\00Merge.csv\n"
     ]
    }
   ],
   "source": [
    "def merge_data(file_name_str, folder, output_path):\n",
    "    file_names = file_name_str.split()\n",
    "    file_paths = [os.path.join(folder, f\"{name}.csv\") for name in file_names]\n",
    "\n",
    "    dataframes = [pd.read_csv(fp, header=None) for fp in file_paths]\n",
    "    n_rows = len(dataframes[0])\n",
    "\n",
    "    last_time = dataframes[0].iloc[-1, 0]\n",
    "    rounded_time = round(last_time)\n",
    "    time_gap = rounded_time / n_rows\n",
    "    print(f\"자동 계산된 time_gap: {time_gap:.6f}\")\n",
    "\n",
    "    gap = int(gap_value * n_rows)\n",
    "\n",
    "    total_rows = n_rows + (len(dataframes) - 1) * (n_rows + gap)\n",
    "\n",
    "    if total_rows >= 1_000_000:\n",
    "        print(f\"⚠ 경고: 생성될 파일의 행 수가 {total_rows:,}개로 1,000,000을 초과합니다. 파일 크기에 주의하세요.\")\n",
    "\n",
    "    n_cols = len(dataframes) + 1\n",
    "    result_array = np.full((total_rows, n_cols), np.nan)\n",
    "\n",
    "    result_array[:, 0] = np.arange(0, total_rows) * time_gap\n",
    "\n",
    "    row_pos = 0\n",
    "    for i, df in enumerate(dataframes):\n",
    "        result_array[row_pos:row_pos + n_rows, i + 1] = df.iloc[:, 1].values\n",
    "        row_pos += n_rows + gap  # 항상 동일 gap 추가\n",
    "\n",
    "    pd.DataFrame(result_array).to_csv(output_path, index=False, header=False, float_format=\"%.6f\")\n",
    "    print(f\"병합된 파일이 저장되었습니다: {output_path}\")\n",
    "    \n",
    "output_path = os.path.join(folder, \"00Merge.csv\")\n",
    "\n",
    "merge_data(file_name_str, folder, output_path)"
   ]
  }
 ],
 "metadata": {
  "kernelspec": {
   "display_name": "base",
   "language": "python",
   "name": "python3"
  },
  "language_info": {
   "codemirror_mode": {
    "name": "ipython",
    "version": 3
   },
   "file_extension": ".py",
   "mimetype": "text/x-python",
   "name": "python",
   "nbconvert_exporter": "python",
   "pygments_lexer": "ipython3",
   "version": "3.11.7"
  }
 },
 "nbformat": 4,
 "nbformat_minor": 5
}
