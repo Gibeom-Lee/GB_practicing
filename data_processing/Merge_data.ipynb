{
 "cells": [
  {
   "cell_type": "code",
   "execution_count": 23,
   "id": "146f8ded",
   "metadata": {},
   "outputs": [],
   "source": [
    "# made by Gibeom LEE, HI LAB\n",
    "# csv파일 여러개를 일정한 간격을 두어 합쳐줍니다. (다른 열)"
   ]
  },
  {
   "cell_type": "code",
   "execution_count": 24,
   "id": "60fbcf53",
   "metadata": {},
   "outputs": [],
   "source": [
    "import os\n",
    "import pandas as pd\n",
    "import numpy as np"
   ]
  },
  {
   "cell_type": "code",
   "execution_count": 27,
   "id": "333de8ed",
   "metadata": {},
   "outputs": [],
   "source": [
    "#폴더, 파일명, 간격 범위 기입\n",
    "folder = r\"C:\\Users\\GCU\\OneDrive - gachon.ac.kr\\HI Lab\\0. Projects\\0. On going\\2. Aloe inspired DEG\\0. 실험자료\\3. Material selection\\250729_UC1모양으로 코팅별\\minimized_새 폴더\"\n",
    "\n",
    "file_name_str = \"OP103_2_40 OP103_4_40 OP103_6_40 OP103_8_40\" #\"\" 안에 하나의 csv파일\n",
    "\n",
    "gap_value = 0.2 #0.2 = 20 % 만큼 행 띄우기"
   ]
  },
  {
   "cell_type": "code",
   "execution_count": 29,
   "id": "67618af4",
   "metadata": {},
   "outputs": [
    {
     "name": "stdout",
     "output_type": "stream",
     "text": [
      "✅ 병합된 파일이 저장되었습니다: C:\\Users\\GCU\\OneDrive - gachon.ac.kr\\HI Lab\\0. Projects\\0. On going\\2. Aloe inspired DEG\\0. 실험자료\\3. Material selection\\250729_UC1모양으로 코팅별\\minimized_새 폴더\\00Merge.csv\n"
     ]
    }
   ],
   "source": [
    "output_path = os.path.join(folder, \"00Merge.csv\")\n",
    "\n",
    "def get_robust_time_step(df):\n",
    "    \"\"\"총 시간과 행 수로부터 평균 time_step 계산\"\"\"\n",
    "    time_col = df.iloc[:, 0].values\n",
    "    total_time = round(time_col[-1])           # 총 시간 = 마지막 값 반올림\n",
    "    n_rows = len(time_col)                     # 전체 샘플 수\n",
    "    time_step = total_time / n_rows\n",
    "    return time_step, n_rows, total_time\n",
    "\n",
    "def merge_data(file_name_str, folder, output_path):\n",
    "    file_names = file_name_str.split()\n",
    "    file_paths = [os.path.join(folder, f\"{name}.csv\") for name in file_names]\n",
    "    dataframes = [pd.read_csv(fp, header=None) for fp in file_paths]\n",
    "\n",
    "    # 첫 번째 파일 기준으로 time_step, 샘플 수 계산\n",
    "    time_step, n_rows, total_time = get_robust_time_step(dataframes[0])\n",
    "    gap = int(gap_value * n_rows)\n",
    "\n",
    "    total_rows = n_rows + (len(dataframes) - 1) * (n_rows + gap)\n",
    "    n_cols = len(dataframes) + 1\n",
    "    result_array = np.full((total_rows, n_cols), np.nan)\n",
    "\n",
    "    # 시간 축 생성: 0초부터 시작, time_step 간격으로 증가\n",
    "    result_array[:, 0] = np.arange(0, total_rows) * time_step\n",
    "\n",
    "    # 데이터 병합\n",
    "    row_pos = 0\n",
    "    for i, df in enumerate(dataframes):\n",
    "        y_values = df.iloc[:, 1].values  # 전압 값 (2번째 열 기준)\n",
    "        result_array[row_pos:row_pos + n_rows, i + 1] = y_values\n",
    "        row_pos += n_rows + gap\n",
    "\n",
    "    # 저장\n",
    "    pd.DataFrame(result_array).to_csv(output_path, index=False, header=False, float_format=\"%.6f\")\n",
    "    print(f\"✅ 병합된 파일이 저장되었습니다: {output_path}\")\n",
    "\n",
    "# 실행\n",
    "merge_data(file_name_str, folder, output_path)\n"
   ]
  }
 ],
 "metadata": {
  "kernelspec": {
   "display_name": "Python 3",
   "language": "python",
   "name": "python3"
  },
  "language_info": {
   "codemirror_mode": {
    "name": "ipython",
    "version": 3
   },
   "file_extension": ".py",
   "mimetype": "text/x-python",
   "name": "python",
   "nbconvert_exporter": "python",
   "pygments_lexer": "ipython3",
   "version": "3.11.9"
  }
 },
 "nbformat": 4,
 "nbformat_minor": 5
}
