{
 "cells": [
  {
   "cell_type": "code",
   "execution_count": 1,
   "id": "924d84cd",
   "metadata": {},
   "outputs": [],
   "source": [
    "# made by Gibeom LEE, HI LAB\n",
    "# 한 폴더 내 모든 csv 파일의 TENG Vpp값을 구할 때 유용합니다."
   ]
  },
  {
   "cell_type": "code",
   "execution_count": 2,
   "id": "162e6950",
   "metadata": {},
   "outputs": [],
   "source": [
    "import os\n",
    "import pandas as pd\n",
    "import numpy as np\n",
    "import matplotlib.pyplot as plt\n",
    "from scipy.signal import find_peaks"
   ]
  },
  {
   "cell_type": "code",
   "execution_count": 11,
   "id": "38ad0e84",
   "metadata": {},
   "outputs": [],
   "source": [
    "# 폴더 경로 지정\n",
    "folder_path = r\"C:\\Users\\GCU\\OneDrive - gachon.ac.kr\\HI Lab\\0. Projects\\0. On going\\2. Aloe inspired DEG\\0. 실험자료\\2. Collecting data\\250417\"\n",
    "\n",
    "# find peak height 설정\n",
    "height = 5\n",
    "\n",
    "# 폴더 내 모든 CSV 파일 탐색\n",
    "csv_files = [f for f in os.listdir(folder_path) if f.endswith('.csv')]\n",
    "\n",
    "# 각 파일별 평균 Vpp 계산 및 그래프 그리기\n",
    "for file_name in csv_files:\n",
    "    file_path = os.path.join(folder_path, file_name)\n",
    "    try:\n",
    "        data = pd.read_csv(file_path)\n",
    "\n",
    "        # 시간과 전압 데이터 추출\n",
    "        time = data.iloc[:, 0].values\n",
    "        voltage = data.iloc[:, 1].values\n",
    "\n",
    "        # + / - 피크 탐지\n",
    "        pos_peaks, _ = find_peaks(voltage, height, distance = 1000)\n",
    "        neg_peaks, _ = find_peaks(-voltage, height, distance = 1000)\n",
    "\n",
    "        # 모든 피크 통합 후 정렬\n",
    "        all_peaks = np.sort(np.concatenate((pos_peaks, neg_peaks)))\n",
    "\n",
    "        # Vpp 계산\n",
    "        vpp_list = []\n",
    "        for i in range(len(all_peaks) - 1):\n",
    "            start = all_peaks[i]\n",
    "            end = all_peaks[i + 1]\n",
    "            if end > start:\n",
    "                vpp = np.max(voltage[start:end+1]) - np.min(voltage[start:end+1])\n",
    "                vpp_list.append(vpp)\n",
    "\n",
    "        mean_vpp = np.mean(vpp_list) if vpp_list else 0\n",
    "        base_name = os.path.splitext(file_name)[0]\n",
    "        print(f\"{base_name}_Vpp: {mean_vpp:.2f} V\")\n",
    "\n",
    "        # 피크 그래프 그리기\n",
    "        plt.figure(figsize=(10, 4))\n",
    "        plt.plot(time, voltage, label='Voltage', color='gray')\n",
    "        plt.plot(time[pos_peaks], voltage[pos_peaks], 'ro', label='Positive Peaks')\n",
    "        plt.plot(time[neg_peaks], voltage[neg_peaks], 'bo', label='Negative Peaks')\n",
    "        plt.title(f\"{base_name} - Peak Detection\")\n",
    "        plt.xlabel(\"Time (s)\")\n",
    "        plt.ylim(-100,100) #알잘딱하세요\n",
    "        plt.ylabel(\"Voltage (V)\")\n",
    "        plt.legend()\n",
    "        plt.tight_layout()\n",
    "        plt.show()\n",
    "\n",
    "    except Exception as e:\n",
    "        print(f\"{file_name} 처리 중 오류 발생: {e}\")"
   ]
  }
 ],
 "metadata": {
  "kernelspec": {
   "display_name": "Python 3",
   "language": "python",
   "name": "python3"
  },
  "language_info": {
   "codemirror_mode": {
    "name": "ipython",
    "version": 3
   },
   "file_extension": ".py",
   "mimetype": "text/x-python",
   "name": "python",
   "nbconvert_exporter": "python",
   "pygments_lexer": "ipython3",
   "version": "3.11.9"
  }
 },
 "nbformat": 4,
 "nbformat_minor": 5
}
