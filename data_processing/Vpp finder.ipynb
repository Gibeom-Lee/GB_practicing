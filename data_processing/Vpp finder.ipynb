{
 "cells": [
  {
   "cell_type": "code",
   "execution_count": 45,
   "id": "924d84cd",
   "metadata": {},
   "outputs": [],
   "source": [
    "# made by Gibeom LEE, HI LAB\n",
    "# 한 폴더 내 모든 csv 파일의 TENG Vpp값을 구할 때 유용합니다.\n",
    "# +250806 각 frequency도 같이 보여줍니다."
   ]
  },
  {
   "cell_type": "code",
   "execution_count": 46,
   "id": "162e6950",
   "metadata": {},
   "outputs": [],
   "source": [
    "import os\n",
    "import numpy as np\n",
    "import pandas as pd\n",
    "import matplotlib.pyplot as plt\n",
    "from scipy.signal import find_peaks"
   ]
  },
  {
   "cell_type": "code",
   "execution_count": 47,
   "id": "72c60fe8",
   "metadata": {},
   "outputs": [],
   "source": [
    "# 폴더 경로\n",
    "folder_path = r\"C:\\Users\\user\\Desktop\\Drive파일\\HI Lab\\0. Projects\\0. On going\\2. Aloe inspired DEG\\0. 실험자료\\4. Data measurement\\250917_40V 이상 다 찍기_기름별제외\\TEST\"\n",
    "\n",
    "# 사용자 설정값\n",
    "prominence_ratio = 0.3 # 신호의 표준편차(std)에 곱해 피크 prominence 기준을 설정 / 주변 값보다 얼마나 돌출된 정도여야 피크로 인식할지를 결정\n",
    "min_prominence = 0.1 # prominence의 최솟값 제한 / std가 너무 작아서 prominence가 너무 낮게 계산되는 경우를 방지\n",
    "min_distance_sec = 0.15 #인접한 피크 간 최소 시간 간격 (초 단위)\n",
    "snr_threshold = 1 # Signal-to-Noise Ratio 기준값 / 값이 높을수록 강한 피크만 통과\n",
    "min_relative_height = 0.1 # 전체 최대 진폭설정 ex) 0.2: 20% 이상 \n",
    "\n",
    "#그래프\n",
    "y_range = (-70, 10)\n",
    "y_range = (None, None)"
   ]
  },
  {
   "cell_type": "code",
   "execution_count": 48,
   "id": "38ad0e84",
   "metadata": {},
   "outputs": [
    {
     "name": "stdout",
     "output_type": "stream",
     "text": [
      "minimized_Frequency_merge_Vpp: 0.00 V\n",
      "minimized_Frequency_merge_Peak number: 0개\n",
      "minimized_Frequency_merge_표준편차: 0.00\n",
      "minimized_Frequency_merge_주파수: 0.00 Hz\n"
     ]
    },
    {
     "data": {
      "image/png": "[encoded data removed]",
      "text/plain": [
       "<Figure size 1000x400 with 1 Axes>"
      ]
     },
     "metadata": {},
     "output_type": "display_data"
    },
    {
     "name": "stdout",
     "output_type": "stream",
     "text": [
      "\n",
      "==============================\n",
      "📊 모든 파일의 평균 Vpp, 표준편차, 평균 주파수 목록\n",
      "minimized_Frequency_merge.csv_Vpp: 0.00 V | 표준편차: 0.00 V | 주파수: 0.00 Hz\n",
      "\n",
      "==============================\n",
      "📈 전체 평균 Vpp: 0.00 V\n",
      "📉 표준편차 (Vpp): nan V\n",
      "🎵 전체 평균 주파수: 0.00 Hz\n",
      "🎯 표준편차 (주파수): nan Hz\n"
     ]
    },
    {
     "name": "stderr",
     "output_type": "stream",
     "text": [
      "C:\\Users\\user\\AppData\\Local\\Packages\\PythonSoftwareFoundation.Python.3.11_qbz5n2kfra8p0\\LocalCache\\local-packages\\Python311\\site-packages\\numpy\\_core\\_methods.py:223: RuntimeWarning: Degrees of freedom <= 0 for slice\n",
      "  ret = _var(a, axis=axis, dtype=dtype, out=out, ddof=ddof,\n",
      "C:\\Users\\user\\AppData\\Local\\Packages\\PythonSoftwareFoundation.Python.3.11_qbz5n2kfra8p0\\LocalCache\\local-packages\\Python311\\site-packages\\numpy\\_core\\_methods.py:215: RuntimeWarning: invalid value encountered in scalar divide\n",
      "  ret = ret.dtype.type(ret / rcount)\n"
     ]
    }
   ],
   "source": [
    "csv_files = [f for f in os.listdir(folder_path) if f.endswith('.csv')]\n",
    "all_vpp_values = []\n",
    "file_std_values = []\n",
    "all_freq_values = []  # 주파수 리스트 저장\n",
    "\n",
    "# -------------------------------\n",
    "# 파일별 처리\n",
    "for file_name in csv_files:\n",
    "    file_path = os.path.join(folder_path, file_name)\n",
    "    try:\n",
    "        # 데이터 로드\n",
    "        df = pd.read_csv(file_path)\n",
    "        time = df.iloc[:, 0].values\n",
    "        voltage = df.iloc[:, 1].values\n",
    "\n",
    "        # 샘플링 속도\n",
    "        total_time = time[-1] - time[0]\n",
    "        sampling_rate = len(time) / total_time\n",
    "        distance = int(sampling_rate * min_distance_sec)\n",
    "\n",
    "        # 피크 검출 (음의 피크 대상으로)\n",
    "        prom = max(np.std(voltage) * prominence_ratio, min_prominence)\n",
    "        raw_peaks, properties = find_peaks(-voltage, prominence=prom, distance=distance)\n",
    "\n",
    "        # 피크 필터링\n",
    "        max_amplitude = np.max(-voltage)\n",
    "        final_peaks = []\n",
    "        for i in raw_peaks:\n",
    "            left = max(0, i - int(0.05 * sampling_rate))\n",
    "            right = min(len(voltage), i + int(0.05 * sampling_rate))\n",
    "            local_noise = max(np.std(voltage[left:right]), 1e-6)\n",
    "            signal = -voltage[i]\n",
    "            if signal > max_amplitude * min_relative_height and signal / local_noise > snr_threshold:\n",
    "                final_peaks.append(i)\n",
    "\n",
    "        final_peaks = np.array(final_peaks, dtype=int)\n",
    "        peak_times = time[final_peaks]\n",
    "\n",
    "        # Vpp 계산\n",
    "        vpp_list = []\n",
    "        if len(final_peaks) > 1:\n",
    "            for i in range(len(final_peaks) - 1):\n",
    "                start = final_peaks[i]\n",
    "                end = final_peaks[i + 1]\n",
    "                vpp = np.max(voltage[start:end + 1]) - np.min(voltage[start:end + 1])\n",
    "                vpp_list.append(vpp)\n",
    "        elif len(final_peaks) == 1:\n",
    "            # 피크가 하나일 때 Vpp 계산\n",
    "            vpp_list.append(np.max(voltage) - np.min(voltage))\n",
    "\n",
    "        mean_vpp = np.mean(vpp_list) if vpp_list else 0\n",
    "        std = np.std(vpp_list, ddof=1) if len(vpp_list) > 1 else 0  # 표준편차 계산\n",
    "\n",
    "        # 주파수 계산\n",
    "        if len(peak_times) < 2:\n",
    "            mean_freq = 0\n",
    "        else:\n",
    "            periods = np.diff(peak_times)\n",
    "            mean_freq = np.mean(1 / periods)\n",
    "\n",
    "        # 결과 출력\n",
    "        base_name = os.path.splitext(file_name)[0]\n",
    "        print(f\"{base_name}_Vpp: {mean_vpp:.2f} V\")\n",
    "        print(f\"{base_name}_Peak number: {len(vpp_list):.0f}개\")\n",
    "        print(f\"{base_name}_표준편차: {std:.2f}\")\n",
    "        print(f\"{base_name}_주파수: {mean_freq:.2f} Hz\")\n",
    "\n",
    "        # 결과 저장\n",
    "        all_vpp_values.append(mean_vpp)\n",
    "        file_std_values.append(std)\n",
    "        all_freq_values.append(mean_freq)\n",
    "\n",
    "        # -------------------------------\n",
    "        # 그래프 출력\n",
    "        plt.figure(figsize=(10, 4))\n",
    "        plt.plot(time, voltage, color='black', label='Voltage')\n",
    "        if len(final_peaks) > 0:\n",
    "            plt.plot(time[final_peaks], voltage[final_peaks], 'ro', label='Detected Peaks')\n",
    "        plt.title(f\"{base_name} - Peak Detection (Filtered)\")\n",
    "        plt.xlabel(\"Time (s)\")\n",
    "        plt.ylabel(\"Voltage (V)\")\n",
    "        if y_range is not None:\n",
    "            plt.ylim(y_range)  # y_range가 None일 때는 실행 안 함\n",
    "        plt.ylim(y_range)\n",
    "        plt.grid(True)\n",
    "        plt.legend()\n",
    "        plt.tight_layout()\n",
    "        plt.show()\n",
    "\n",
    "    except Exception as e:\n",
    "        print(f\"{file_name} 처리 중 오류 발생: {e}\")\n",
    "\n",
    "# -------------------------------\n",
    "# 전체 요약 출력\n",
    "print(\"\\n==============================\")\n",
    "print(\"📊 모든 파일의 평균 Vpp, 표준편차, 평균 주파수 목록\")\n",
    "for i in range(len(all_vpp_values)):\n",
    "    print(f\"{csv_files[i]}_Vpp: {all_vpp_values[i]:.2f} V | 표준편차: {file_std_values[i]:.2f} V | 주파수: {all_freq_values[i]:.2f} Hz\")\n",
    "\n",
    "if all_vpp_values:\n",
    "    overall_mean_vpp = np.mean(all_vpp_values)\n",
    "    overall_std_vpp = np.std(all_vpp_values, ddof=1)\n",
    "    overall_mean_freq = np.mean(all_freq_values) if all_freq_values else 0\n",
    "    overall_std_freq = np.std(all_freq_values, ddof=1) if all_freq_values else 0\n",
    "\n",
    "    print(\"\\n==============================\")\n",
    "    print(f\"📈 전체 평균 Vpp: {overall_mean_vpp:.2f} V\")\n",
    "    print(f\"📉 표준편차 (Vpp): {overall_std_vpp:.2f} V\")\n",
    "    print(f\"🎵 전체 평균 주파수: {overall_mean_freq:.2f} Hz\")\n",
    "    print(f\"🎯 표준편차 (주파수): {overall_std_freq:.2f} Hz\")\n",
    "else:\n",
    "    print(\"📭 Vpp 데이터를 계산할 수 없습니다.\")\n"
   ]
  }
 ],
 "metadata": {
  "kernelspec": {
   "display_name": "Python 3",
   "language": "python",
   "name": "python3"
  },
  "language_info": {
   "codemirror_mode": {
    "name": "ipython",
    "version": 3
   },
   "file_extension": ".py",
   "mimetype": "text/x-python",
   "name": "python",
   "nbconvert_exporter": "python",
   "pygments_lexer": "ipython3",
   "version": "3.11.9"
  }
 },
 "nbformat": 4,
 "nbformat_minor": 5
}
