{
 "cells": [
  {
   "cell_type": "code",
   "execution_count": 31,
   "id": "ce38de5c",
   "metadata": {},
   "outputs": [],
   "source": [
    "import os\n",
    "import pandas as pd\n",
    "import glob"
   ]
  },
  {
   "cell_type": "code",
   "execution_count": null,
   "id": "2d25c635",
   "metadata": {},
   "outputs": [],
   "source": [
    "# 설정 ----------------------------\n",
    "folder = r\"C:\\Users\\user\\OneDrive - gachon.ac.kr\\HI Lab\\0. Projects\\0. On going\\2. Aloe inspired DEG\\0. 실험자료\\4. Data measurement\\250809_OTS-Hexadecane_길이별\\minimized_csv파일\\W4\"\n",
    "\n",
    "# 폴더 이름 추출\n",
    "folder_name = os.path.basename(folder)\n",
    "output_filename = f\"{folder_name}_merge.csv\"\n",
    "output_path = os.path.join(folder, output_filename)\n",
    "\n",
    "gap_ratio = 0.2 # 각 파일 사이의 시간 간격 비율 ex) 20%"
   ]
  },
  {
   "cell_type": "code",
   "execution_count": 33,
   "id": "55d5a1f3",
   "metadata": {},
   "outputs": [
    {
     "name": "stdout",
     "output_type": "stream",
     "text": [
      "✅ 시간축 간격을 적용하여 데이터가 2열로 병합된 파일이 저장되었습니다: C:\\Users\\user\\OneDrive - gachon.ac.kr\\HI Lab\\0. Projects\\0. On going\\2. Aloe inspired DEG\\0. 실험자료\\4. Data measurement\\250809_OTS-Hexadecane_길이별\\minimized_csv파일\\W4\\W4_merge.csv\n"
     ]
    }
   ],
   "source": [
    "# 병합 함수 -----------------------\n",
    "def merge_data_stacked(folder, output_path, gap_ratio):\n",
    "    # 폴더 내 모든 csv 파일 가져오기\n",
    "    file_paths = glob.glob(os.path.join(folder, \"*.csv\"))\n",
    "    \n",
    "    merged_data_list = []\n",
    "    current_time_offset = 0.0  # 누적 시간 offset\n",
    "\n",
    "    for fp in file_paths:\n",
    "        df = pd.read_csv(fp, header=None)\n",
    "        \n",
    "        # 파일의 총 시간 계산 및 시간 간격 적용\n",
    "        time_vals = df.iloc[:, 0].values\n",
    "        last_time = time_vals[-1]\n",
    "        rounded_duration = round(last_time)\n",
    "        time_gap = rounded_duration * gap_ratio\n",
    "\n",
    "        # 시간축 이동\n",
    "        df[0] = df[0] + current_time_offset\n",
    "        \n",
    "        merged_data_list.append(df)\n",
    "        \n",
    "        # 다음 파일을 위한 누적 offset 업데이트\n",
    "        current_time_offset += rounded_duration + time_gap\n",
    "\n",
    "    # 모든 데이터프레임을 하나로 합치기\n",
    "    merged_df = pd.concat(merged_data_list, ignore_index=True)\n",
    "    \n",
    "    # 정렬 및 저장\n",
    "    merged_df = merged_df.sort_values(by=0).reset_index(drop=True)\n",
    "    merged_df.to_csv(output_path, index=False, header=False, float_format=\"%.6f\")\n",
    "\n",
    "    print(f\"✅ 시간축 간격을 적용하여 데이터가 2열로 병합된 파일이 저장되었습니다: {output_path}\")\n",
    "\n",
    "# 실행 ----------------------------\n",
    "merge_data_stacked(folder, output_path, gap_ratio)"
   ]
  }
 ],
 "metadata": {
  "kernelspec": {
   "display_name": "Python 3",
   "language": "python",
   "name": "python3"
  },
  "language_info": {
   "codemirror_mode": {
    "name": "ipython",
    "version": 3
   },
   "file_extension": ".py",
   "mimetype": "text/x-python",
   "name": "python",
   "nbconvert_exporter": "python",
   "pygments_lexer": "ipython3",
   "version": "3.11.9"
  }
 },
 "nbformat": 4,
 "nbformat_minor": 5
}
