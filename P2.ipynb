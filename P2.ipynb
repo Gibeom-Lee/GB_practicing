{
 "cells": [
  {
   "cell_type": "code",
   "execution_count": 5,
   "metadata": {},
   "outputs": [
    {
     "name": "stdout",
     "output_type": "stream",
     "text": [
      "      Time     Value\n",
      "0    0.000  0.000000\n",
      "1    0.001  0.677142\n",
      "2    0.002  1.272332\n",
      "3    0.003  1.713844\n",
      "4    0.004  1.949083\n",
      "..     ...       ...\n",
      "995  0.995 -1.951057\n",
      "996  0.996 -1.949083\n",
      "997  0.997 -1.713844\n",
      "998  0.998 -1.272332\n",
      "999  0.999 -0.677142\n",
      "\n",
      "[1000 rows x 2 columns]\n",
      "b 계수 (분자 전달 함수 계수): [ 0.99375596 -1.84794186  0.99375596]\n",
      "a 계수 (분모 전달 함수 계수): [ 1.         -1.84794186  0.98751193]\n"
     ]
    }
   ],
   "source": [
    "from scipy.signal import iirnotch\n",
    "import numpy as np\n",
    "import pandas as pd\n",
    "\n",
    "# 예제 데이터 생성\n",
    "data = {\n",
    "    'Time': np.arange(0, 1, 0.001),  # 1초 동안 1000개의 샘플, 시간 데이터 (초 단위)\n",
    "    'Value': np.sin(2 * np.pi * 50 * np.arange(0, 1, 0.001)) + np.sin(2 * np.pi * 60 * np.arange(0, 1, 0.001))  # 50 Hz와 60 Hz의 신호가 섞인 데이터\n",
    "}\n",
    "df_trim = pd.DataFrame(data)\n",
    "print(df_trim)\n",
    "\n",
    "# Sampling frequency (assumed from the time column)\n",
    "fs = 1 / (df_trim['Time'][1] - df_trim['Time'][0])  # 샘플링 주파수 계산\n",
    "\n",
    "# Notch 필터 생성\n",
    "notch_freq = 60.0  # 제거할 주파수 (Hz)\n",
    "quality_factor = 30.0  # 품질 요인 (높을수록 좁은 범위의 주파수만 제거)\n",
    "\n",
    "b, a = iirnotch(notch_freq, quality_factor, fs)\n",
    "\n",
    "# 결과 출력\n"
   ]
  }
 ],
 "metadata": {
  "kernelspec": {
   "display_name": "base",
   "language": "python",
   "name": "python3"
  },
  "language_info": {
   "codemirror_mode": {
    "name": "ipython",
    "version": 3
   },
   "file_extension": ".py",
   "mimetype": "text/x-python",
   "name": "python",
   "nbconvert_exporter": "python",
   "pygments_lexer": "ipython3",
   "version": "3.12.2"
  }
 },
 "nbformat": 4,
 "nbformat_minor": 2
}
