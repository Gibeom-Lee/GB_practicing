{
 "cells": [
  {
   "cell_type": "code",
   "execution_count": 46,
   "id": "0a2c0265",
   "metadata": {},
   "outputs": [],
   "source": [
    "import glob\n",
    "import os\n",
    "import pandas as pd\n",
    "import numpy as np\n",
    "from tensorflow.keras.models import Sequential, load_model\n",
    "from tensorflow.keras.layers import LSTM, Dense\n",
    "from tensorflow.keras.utils import to_categorical\n",
    "from sklearn.model_selection import train_test_split"
   ]
  },
  {
   "cell_type": "code",
   "execution_count": null,
   "id": "520709ff",
   "metadata": {},
   "outputs": [
    {
     "name": "stdout",
     "output_type": "stream",
     "text": [
      "폴더 존재 여부: True\n",
      "폴더 내용: ['250709_Noise_hand+metal.csv', '250709_Noise_water.csv', 'hand+metal.csv', 'water.csv', 'skin', 'dielectric', 'metal']\n"
     ]
    }
   ],
   "source": [
    "# -------------------\n",
    "# 0. 데이터 경로\n",
    "# -------------------\n",
    "train_folder = r\"G:\\다른 컴퓨터\\KHU PC\\HI Lab\\0. Projects\\0. On going\\4. Secret Noise Analyzing project\\1. 실험자료\\train1\"\n",
    "\n",
    "test_file    = r\"G:\\다른 컴퓨터\\KHU PC\\HI Lab\\0. Projects\\0. On going\\4. Secret Noise Analyzing project\\1. 실험자료\\train2-wire\\wire_metal.csv\"\n",
    "\n",
    "import os\n",
    "\n",
    "print(\"폴더 존재 여부:\", os.path.exists(train_folder))\n",
    "print(\"폴더 내용:\", os.listdir(train_folder))\n",
    "\n"
   ]
  },
  {
   "cell_type": "code",
   "execution_count": 52,
   "id": "786b9286",
   "metadata": {},
   "outputs": [
    {
     "name": "stdout",
     "output_type": "stream",
     "text": [
      "발견한 CSV 개수: 8\n",
      "자동 생성된 라벨 맵: {'dielectric': 0, 'metal': 1, 'skin': 2}\n",
      "불러온 파일 예시: ['G:\\\\다른 컴퓨터\\\\KHU PC\\\\HI Lab\\\\0. Projects\\\\0. On going\\\\4. Secret Noise Analyzing project\\\\1. 실험자료\\\\train1\\\\skin\\\\skin_2.csv', 'G:\\\\다른 컴퓨터\\\\KHU PC\\\\HI Lab\\\\0. Projects\\\\0. On going\\\\4. Secret Noise Analyzing project\\\\1. 실험자료\\\\train1\\\\skin\\\\skin_1.csv', 'G:\\\\다른 컴퓨터\\\\KHU PC\\\\HI Lab\\\\0. Projects\\\\0. On going\\\\4. Secret Noise Analyzing project\\\\1. 실험자료\\\\train1\\\\dielectric\\\\dielectric_1.csv']\n",
      "파일: G:\\다른 컴퓨터\\KHU PC\\HI Lab\\0. Projects\\0. On going\\4. Secret Noise Analyzing project\\1. 실험자료\\train1\\skin\\skin_2.csv\n",
      "폴더명: skin\n",
      "라벨맵 키들: dict_keys(['dielectric', 'metal', 'skin'])\n",
      "파일: G:\\다른 컴퓨터\\KHU PC\\HI Lab\\0. Projects\\0. On going\\4. Secret Noise Analyzing project\\1. 실험자료\\train1\\skin\\skin_1.csv\n",
      "폴더명: skin\n",
      "라벨맵 키들: dict_keys(['dielectric', 'metal', 'skin'])\n",
      "파일: G:\\다른 컴퓨터\\KHU PC\\HI Lab\\0. Projects\\0. On going\\4. Secret Noise Analyzing project\\1. 실험자료\\train1\\dielectric\\dielectric_1.csv\n",
      "폴더명: dielectric\n",
      "라벨맵 키들: dict_keys(['dielectric', 'metal', 'skin'])\n",
      "라벨별 데이터 개수 분포:\n",
      " - dielectric : 316 개\n",
      " - metal : 158 개\n",
      " - skin : 158 개\n",
      "Epoch 1/20\n"
     ]
    },
    {
     "name": "stderr",
     "output_type": "stream",
     "text": [
      "c:\\Users\\limye\\Documents\\GitHub\\GB_practicing\\.venv\\Lib\\site-packages\\keras\\src\\layers\\rnn\\rnn.py:199: UserWarning: Do not pass an `input_shape`/`input_dim` argument to a layer. When using Sequential models, prefer using an `Input(shape)` object as the first layer in the model instead.\n",
      "  super().__init__(**kwargs)\n"
     ]
    },
    {
     "name": "stdout",
     "output_type": "stream",
     "text": [
      "\u001b[1m16/16\u001b[0m \u001b[32m━━━━━━━━━━━━━━━━━━━━\u001b[0m\u001b[37m\u001b[0m \u001b[1m3s\u001b[0m 95ms/step - accuracy: 0.4673 - loss: 1.0813 - val_accuracy: 0.5118 - val_loss: 1.0728\n",
      "Epoch 2/20\n",
      "\u001b[1m16/16\u001b[0m \u001b[32m━━━━━━━━━━━━━━━━━━━━\u001b[0m\u001b[37m\u001b[0m \u001b[1m1s\u001b[0m 85ms/step - accuracy: 0.4970 - loss: 1.0581 - val_accuracy: 0.5118 - val_loss: 1.0444\n",
      "Epoch 3/20\n",
      "\u001b[1m16/16\u001b[0m \u001b[32m━━━━━━━━━━━━━━━━━━━━\u001b[0m\u001b[37m\u001b[0m \u001b[1m1s\u001b[0m 82ms/step - accuracy: 0.4970 - loss: 1.0451 - val_accuracy: 0.5118 - val_loss: 1.0305\n",
      "Epoch 4/20\n",
      "\u001b[1m16/16\u001b[0m \u001b[32m━━━━━━━━━━━━━━━━━━━━\u001b[0m\u001b[37m\u001b[0m \u001b[1m1s\u001b[0m 85ms/step - accuracy: 0.4970 - loss: 1.0391 - val_accuracy: 0.5118 - val_loss: 1.0287\n",
      "Epoch 5/20\n",
      "\u001b[1m16/16\u001b[0m \u001b[32m━━━━━━━━━━━━━━━━━━━━\u001b[0m\u001b[37m\u001b[0m \u001b[1m1s\u001b[0m 85ms/step - accuracy: 0.4970 - loss: 1.0414 - val_accuracy: 0.5118 - val_loss: 1.0267\n",
      "Epoch 6/20\n",
      "\u001b[1m16/16\u001b[0m \u001b[32m━━━━━━━━━━━━━━━━━━━━\u001b[0m\u001b[37m\u001b[0m \u001b[1m1s\u001b[0m 79ms/step - accuracy: 0.4970 - loss: 1.0374 - val_accuracy: 0.5118 - val_loss: 1.0248\n",
      "Epoch 7/20\n",
      "\u001b[1m16/16\u001b[0m \u001b[32m━━━━━━━━━━━━━━━━━━━━\u001b[0m\u001b[37m\u001b[0m \u001b[1m1s\u001b[0m 79ms/step - accuracy: 0.4970 - loss: 1.0338 - val_accuracy: 0.5118 - val_loss: 1.0251\n",
      "Epoch 8/20\n",
      "\u001b[1m16/16\u001b[0m \u001b[32m━━━━━━━━━━━━━━━━━━━━\u001b[0m\u001b[37m\u001b[0m \u001b[1m1s\u001b[0m 79ms/step - accuracy: 0.4970 - loss: 1.0300 - val_accuracy: 0.5118 - val_loss: 1.0165\n",
      "Epoch 9/20\n",
      "\u001b[1m16/16\u001b[0m \u001b[32m━━━━━━━━━━━━━━━━━━━━\u001b[0m\u001b[37m\u001b[0m \u001b[1m1s\u001b[0m 85ms/step - accuracy: 0.4970 - loss: 1.0282 - val_accuracy: 0.5118 - val_loss: 1.0112\n",
      "Epoch 10/20\n",
      "\u001b[1m16/16\u001b[0m \u001b[32m━━━━━━━━━━━━━━━━━━━━\u001b[0m\u001b[37m\u001b[0m \u001b[1m1s\u001b[0m 87ms/step - accuracy: 0.4970 - loss: 1.0249 - val_accuracy: 0.5118 - val_loss: 1.0013\n",
      "Epoch 11/20\n",
      "\u001b[1m16/16\u001b[0m \u001b[32m━━━━━━━━━━━━━━━━━━━━\u001b[0m\u001b[37m\u001b[0m \u001b[1m1s\u001b[0m 75ms/step - accuracy: 0.4713 - loss: 1.0294 - val_accuracy: 0.5118 - val_loss: 1.0163\n",
      "Epoch 12/20\n",
      "\u001b[1m16/16\u001b[0m \u001b[32m━━━━━━━━━━━━━━━━━━━━\u001b[0m\u001b[37m\u001b[0m \u001b[1m1s\u001b[0m 75ms/step - accuracy: 0.4970 - loss: 1.0379 - val_accuracy: 0.5118 - val_loss: 1.0206\n",
      "Epoch 13/20\n",
      "\u001b[1m16/16\u001b[0m \u001b[32m━━━━━━━━━━━━━━━━━━━━\u001b[0m\u001b[37m\u001b[0m \u001b[1m1s\u001b[0m 74ms/step - accuracy: 0.4970 - loss: 1.0309 - val_accuracy: 0.5118 - val_loss: 1.0032\n",
      "Epoch 14/20\n",
      "\u001b[1m16/16\u001b[0m \u001b[32m━━━━━━━━━━━━━━━━━━━━\u001b[0m\u001b[37m\u001b[0m \u001b[1m1s\u001b[0m 77ms/step - accuracy: 0.4851 - loss: 1.0269 - val_accuracy: 0.5118 - val_loss: 0.9963\n",
      "Epoch 15/20\n",
      "\u001b[1m16/16\u001b[0m \u001b[32m━━━━━━━━━━━━━━━━━━━━\u001b[0m\u001b[37m\u001b[0m \u001b[1m1s\u001b[0m 75ms/step - accuracy: 0.4970 - loss: 1.0335 - val_accuracy: 0.5118 - val_loss: 1.0279\n",
      "Epoch 16/20\n",
      "\u001b[1m16/16\u001b[0m \u001b[32m━━━━━━━━━━━━━━━━━━━━\u001b[0m\u001b[37m\u001b[0m \u001b[1m1s\u001b[0m 76ms/step - accuracy: 0.4752 - loss: 1.0590 - val_accuracy: 0.5118 - val_loss: 1.0293\n",
      "Epoch 17/20\n",
      "\u001b[1m16/16\u001b[0m \u001b[32m━━━━━━━━━━━━━━━━━━━━\u001b[0m\u001b[37m\u001b[0m \u001b[1m1s\u001b[0m 73ms/step - accuracy: 0.4970 - loss: 1.0418 - val_accuracy: 0.5118 - val_loss: 1.0332\n",
      "Epoch 18/20\n",
      "\u001b[1m16/16\u001b[0m \u001b[32m━━━━━━━━━━━━━━━━━━━━\u001b[0m\u001b[37m\u001b[0m \u001b[1m1s\u001b[0m 73ms/step - accuracy: 0.4970 - loss: 1.0407 - val_accuracy: 0.5118 - val_loss: 1.0323\n",
      "Epoch 19/20\n",
      "\u001b[1m16/16\u001b[0m \u001b[32m━━━━━━━━━━━━━━━━━━━━\u001b[0m\u001b[37m\u001b[0m \u001b[1m1s\u001b[0m 73ms/step - accuracy: 0.4970 - loss: 1.0375 - val_accuracy: 0.5118 - val_loss: 1.0317\n",
      "Epoch 20/20\n",
      "\u001b[1m16/16\u001b[0m \u001b[32m━━━━━━━━━━━━━━━━━━━━\u001b[0m\u001b[37m\u001b[0m \u001b[1m1s\u001b[0m 72ms/step - accuracy: 0.4970 - loss: 1.0299 - val_accuracy: 0.5118 - val_loss: 1.0415\n"
     ]
    },
    {
     "name": "stderr",
     "output_type": "stream",
     "text": [
      "WARNING:absl:You are saving your model as an HDF5 file via `model.save()` or `keras.saving.save_model(model)`. This file format is considered legacy. We recommend using instead the native Keras format, e.g. `model.save('my_model.keras')` or `keras.saving.save_model(model, 'my_model.keras')`. \n",
      "WARNING:absl:Compiled the loaded model, but the compiled metrics have yet to be built. `model.compile_metrics` will be empty until you train or evaluate the model.\n"
     ]
    },
    {
     "name": "stdout",
     "output_type": "stream",
     "text": [
      "WARNING:tensorflow:5 out of the last 7 calls to <function TensorFlowTrainer.make_predict_function.<locals>.one_step_on_data_distributed at 0x000002593857E200> triggered tf.function retracing. Tracing is expensive and the excessive number of tracings could be due to (1) creating @tf.function repeatedly in a loop, (2) passing tensors with different shapes, (3) passing Python objects instead of tensors. For (1), please define your @tf.function outside of the loop. For (2), @tf.function has reduce_retracing=True option that can avoid unnecessary retracing. For (3), please refer to https://www.tensorflow.org/guide/function#controlling_retracing and https://www.tensorflow.org/api_docs/python/tf/function for  more details.\n"
     ]
    },
    {
     "name": "stderr",
     "output_type": "stream",
     "text": [
      "WARNING:tensorflow:5 out of the last 7 calls to <function TensorFlowTrainer.make_predict_function.<locals>.one_step_on_data_distributed at 0x000002593857E200> triggered tf.function retracing. Tracing is expensive and the excessive number of tracings could be due to (1) creating @tf.function repeatedly in a loop, (2) passing tensors with different shapes, (3) passing Python objects instead of tensors. For (1), please define your @tf.function outside of the loop. For (2), @tf.function has reduce_retracing=True option that can avoid unnecessary retracing. For (3), please refer to https://www.tensorflow.org/guide/function#controlling_retracing and https://www.tensorflow.org/api_docs/python/tf/function for  more details.\n"
     ]
    },
    {
     "name": "stdout",
     "output_type": "stream",
     "text": [
      "\u001b[1m1/3\u001b[0m \u001b[32m━━━━━━\u001b[0m\u001b[37m━━━━━━━━━━━━━━\u001b[0m \u001b[1m0s\u001b[0m 106ms/stepWARNING:tensorflow:6 out of the last 9 calls to <function TensorFlowTrainer.make_predict_function.<locals>.one_step_on_data_distributed at 0x000002593857E200> triggered tf.function retracing. Tracing is expensive and the excessive number of tracings could be due to (1) creating @tf.function repeatedly in a loop, (2) passing tensors with different shapes, (3) passing Python objects instead of tensors. For (1), please define your @tf.function outside of the loop. For (2), @tf.function has reduce_retracing=True option that can avoid unnecessary retracing. For (3), please refer to https://www.tensorflow.org/guide/function#controlling_retracing and https://www.tensorflow.org/api_docs/python/tf/function for  more details.\n"
     ]
    },
    {
     "name": "stderr",
     "output_type": "stream",
     "text": [
      "WARNING:tensorflow:6 out of the last 9 calls to <function TensorFlowTrainer.make_predict_function.<locals>.one_step_on_data_distributed at 0x000002593857E200> triggered tf.function retracing. Tracing is expensive and the excessive number of tracings could be due to (1) creating @tf.function repeatedly in a loop, (2) passing tensors with different shapes, (3) passing Python objects instead of tensors. For (1), please define your @tf.function outside of the loop. For (2), @tf.function has reduce_retracing=True option that can avoid unnecessary retracing. For (3), please refer to https://www.tensorflow.org/guide/function#controlling_retracing and https://www.tensorflow.org/api_docs/python/tf/function for  more details.\n"
     ]
    },
    {
     "name": "stdout",
     "output_type": "stream",
     "text": [
      "\u001b[1m3/3\u001b[0m \u001b[32m━━━━━━━━━━━━━━━━━━━━\u001b[0m\u001b[37m\u001b[0m \u001b[1m0s\u001b[0m 65ms/step\n",
      "이 CSV는: dielectric\n"
     ]
    }
   ],
   "source": [
    "\n",
    "# -------------------\n",
    "# 1. 슬라이딩 윈도우 함수\n",
    "# -------------------\n",
    "def create_windows(data, window_size=500, step=250):\n",
    "    windows = []\n",
    "    for start in range(0, len(data)-window_size+1, step):\n",
    "        end = start + window_size\n",
    "        windows.append(data[start:end])\n",
    "    return np.array(windows)\n",
    "\n",
    "# -------------------\n",
    "# 2. 훈련 데이터셋 불러오기\n",
    "# -------------------\n",
    "X, y = [], []\n",
    "\n",
    "# train1/하위폴더/*.csv 불러오기\n",
    "all_files = glob.glob(os.path.join(train_folder, \"*\", \"*.csv\"))\n",
    "print(\"발견한 CSV 개수:\", len(all_files))\n",
    "\n",
    "# 하위 폴더 이름 = 클래스명\n",
    "all_classes = sorted({os.path.basename(os.path.dirname(f)).lower() for f in all_files})\n",
    "label_map = {cls: idx for idx, cls in enumerate(all_classes)}\n",
    "print(\"자동 생성된 라벨 맵:\", label_map)\n",
    "\n",
    "print(\"불러온 파일 예시:\", all_files[:3])\n",
    "for f in all_files[:3]:\n",
    "    folder_name = os.path.basename(os.path.dirname(f)).lower()\n",
    "    print(\"파일:\", f)\n",
    "    print(\"폴더명:\", folder_name)\n",
    "    print(\"라벨맵 키들:\", label_map.keys())\n",
    "\n",
    "for f in all_files:\n",
    "    df = pd.read_csv(f, header=None)\n",
    "    signal = df.values.flatten()\n",
    "\n",
    "    # 정규화\n",
    "    signal = (signal - np.mean(signal)) / np.std(signal)\n",
    "\n",
    "    # 윈도우 자르기\n",
    "    windows = create_windows(signal, window_size=500, step=250)\n",
    "\n",
    "    # 라벨 = 상위 폴더 이름\n",
    "    folder_name = os.path.basename(os.path.dirname(f)).lower()\n",
    "    label = label_map[folder_name]\n",
    "\n",
    "    for w in windows:\n",
    "        X.append(w)\n",
    "        y.append(label)\n",
    "\n",
    "X = np.array(X)\n",
    "y = np.array(y)\n",
    "\n",
    "if len(y) == 0:\n",
    "    raise ValueError(\"🚨 라벨 데이터가 비어 있습니다. 폴더 구조와 CSV 파일명을 확인하세요.\")\n",
    "\n",
    "# 라벨 분포 출력\n",
    "unique, counts = np.unique(y, return_counts=True)\n",
    "inv_label_map = {v: k for k, v in label_map.items()}\n",
    "print(\"라벨별 데이터 개수 분포:\")\n",
    "for u, c in zip(unique, counts):\n",
    "    print(f\" - {inv_label_map[u]} : {c} 개\")\n",
    "\n",
    "# 입력 형태 맞추기\n",
    "X = np.expand_dims(X, -1)\n",
    "y = to_categorical(y, num_classes=len(label_map))\n",
    "\n",
    "# -------------------\n",
    "# 3. Train/Test 분할\n",
    "# -------------------\n",
    "X_train, X_test, y_train, y_test = train_test_split(\n",
    "    X, y, test_size=0.2, random_state=42\n",
    ")\n",
    "\n",
    "# -------------------\n",
    "# 4. 모델 정의 및 학습\n",
    "# -------------------\n",
    "model = Sequential()\n",
    "model.add(LSTM(64, input_shape=(X.shape[1], 1)))\n",
    "model.add(Dense(32, activation=\"relu\"))\n",
    "model.add(Dense(y.shape[1], activation=\"softmax\"))\n",
    "\n",
    "model.compile(loss=\"categorical_crossentropy\", optimizer=\"adam\", metrics=[\"accuracy\"])\n",
    "\n",
    "model.fit(X_train, y_train, epochs=20, batch_size=32, validation_data=(X_test, y_test))\n",
    "\n",
    "# 모델 저장\n",
    "model.save(\"rnn_classifier.h5\")\n",
    "\n",
    "# -------------------\n",
    "# 5. 새로운 CSV 예측 함수\n",
    "# -------------------\n",
    "def classify_csv(filepath, model_path=\"rnn_classifier.h5\"):\n",
    "    model = load_model(model_path)\n",
    "\n",
    "    df = pd.read_csv(filepath, header=None)\n",
    "    signal = df.values.flatten()\n",
    "\n",
    "    # 정규화\n",
    "    signal = (signal - np.mean(signal)) / np.std(signal)\n",
    "\n",
    "    # 윈도우 생성\n",
    "    windows = create_windows(signal, window_size=500, step=250)\n",
    "    windows = np.expand_dims(windows, -1)\n",
    "\n",
    "    # 예측\n",
    "    preds = model.predict(windows)\n",
    "    pred_classes = np.argmax(preds, axis=1)\n",
    "\n",
    "    # 가장 많이 나온 클래스 → 최종 판정\n",
    "    final_class = np.bincount(pred_classes).argmax()\n",
    "\n",
    "    inv_label_map = {v: k for k, v in label_map.items()}\n",
    "    return inv_label_map[final_class]\n",
    "\n",
    "# -------------------\n",
    "# 6. 실전 데이터 테스트\n",
    "# -------------------\n",
    "result = classify_csv(test_file)\n",
    "print(\"이 CSV는:\", result)\n"
   ]
  }
 ],
 "metadata": {
  "kernelspec": {
   "display_name": "Python 3",
   "language": "python",
   "name": "python3"
  },
  "language_info": {
   "codemirror_mode": {
    "name": "ipython",
    "version": 3
   },
   "file_extension": ".py",
   "mimetype": "text/x-python",
   "name": "python",
   "nbconvert_exporter": "python",
   "pygments_lexer": "ipython3",
   "version": "3.13.7"
  }
 },
 "nbformat": 4,
 "nbformat_minor": 5
}
