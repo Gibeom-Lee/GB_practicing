{
 "cells": [
  {
   "cell_type": "code",
   "execution_count": null,
   "metadata": {},
   "outputs": [],
   "source": [
    "# made by Gibeom LEE, HI LAB\n",
    "# 한 폴더안에 모든 csv파일의 맨 처음 21번째 행을 지웁니다. (오실로스코프 정보)\n",
    "# 또한, 시작하는 시간을 0초 부터 시작하게 합니다.\n",
    "# 한 파일을 중복해서 지우지 않게 주의하세요."
   ]
  },
  {
   "cell_type": "code",
   "execution_count": 2,
   "metadata": {},
   "outputs": [],
   "source": [
    "import pandas as pd\n",
    "import numpy as np\n",
    "import os\n",
    "import glob  # 폴더 내 파일 리스트 가져오는 라이브러리"
   ]
  },
  {
   "cell_type": "code",
   "execution_count": 8,
   "metadata": {},
   "outputs": [
    {
     "name": "stdout",
     "output_type": "stream",
     "text": [
      "Filtered data saved at: C:\\Users\\GCU\\OneDrive - gachon.ac.kr\\HI Lab\\0. Projects\\0. On going\\1. DC GENERATOR\\0. 실험자료\\5. Final stage\\250317_저항 별 전류전압\\voltage\\100k.csv\n",
      "Filtered data saved at: C:\\Users\\GCU\\OneDrive - gachon.ac.kr\\HI Lab\\0. Projects\\0. On going\\1. DC GENERATOR\\0. 실험자료\\5. Final stage\\250317_저항 별 전류전압\\voltage\\100M.csv\n",
      "Filtered data saved at: C:\\Users\\GCU\\OneDrive - gachon.ac.kr\\HI Lab\\0. Projects\\0. On going\\1. DC GENERATOR\\0. 실험자료\\5. Final stage\\250317_저항 별 전류전압\\voltage\\10k.csv\n",
      "Filtered data saved at: C:\\Users\\GCU\\OneDrive - gachon.ac.kr\\HI Lab\\0. Projects\\0. On going\\1. DC GENERATOR\\0. 실험자료\\5. Final stage\\250317_저항 별 전류전압\\voltage\\10M.csv\n",
      "Filtered data saved at: C:\\Users\\GCU\\OneDrive - gachon.ac.kr\\HI Lab\\0. Projects\\0. On going\\1. DC GENERATOR\\0. 실험자료\\5. Final stage\\250317_저항 별 전류전압\\voltage\\1G.csv\n",
      "Filtered data saved at: C:\\Users\\GCU\\OneDrive - gachon.ac.kr\\HI Lab\\0. Projects\\0. On going\\1. DC GENERATOR\\0. 실험자료\\5. Final stage\\250317_저항 별 전류전압\\voltage\\1k.csv\n",
      "Filtered data saved at: C:\\Users\\GCU\\OneDrive - gachon.ac.kr\\HI Lab\\0. Projects\\0. On going\\1. DC GENERATOR\\0. 실험자료\\5. Final stage\\250317_저항 별 전류전압\\voltage\\1M.csv\n",
      "Filtered data saved at: C:\\Users\\GCU\\OneDrive - gachon.ac.kr\\HI Lab\\0. Projects\\0. On going\\1. DC GENERATOR\\0. 실험자료\\5. Final stage\\250317_저항 별 전류전압\\voltage\\20M.csv\n",
      "Filtered data saved at: C:\\Users\\GCU\\OneDrive - gachon.ac.kr\\HI Lab\\0. Projects\\0. On going\\1. DC GENERATOR\\0. 실험자료\\5. Final stage\\250317_저항 별 전류전압\\voltage\\30M.csv\n",
      "Filtered data saved at: C:\\Users\\GCU\\OneDrive - gachon.ac.kr\\HI Lab\\0. Projects\\0. On going\\1. DC GENERATOR\\0. 실험자료\\5. Final stage\\250317_저항 별 전류전압\\voltage\\500k.csv\n",
      "Filtered data saved at: C:\\Users\\GCU\\OneDrive - gachon.ac.kr\\HI Lab\\0. Projects\\0. On going\\1. DC GENERATOR\\0. 실험자료\\5. Final stage\\250317_저항 별 전류전압\\voltage\\500M.csv\n",
      "Filtered data saved at: C:\\Users\\GCU\\OneDrive - gachon.ac.kr\\HI Lab\\0. Projects\\0. On going\\1. DC GENERATOR\\0. 실험자료\\5. Final stage\\250317_저항 별 전류전압\\voltage\\50M.csv\n",
      "Filtered data saved at: C:\\Users\\GCU\\OneDrive - gachon.ac.kr\\HI Lab\\0. Projects\\0. On going\\1. DC GENERATOR\\0. 실험자료\\5. Final stage\\250317_저항 별 전류전압\\voltage\\5G.csv\n",
      "Filtered data saved at: C:\\Users\\GCU\\OneDrive - gachon.ac.kr\\HI Lab\\0. Projects\\0. On going\\1. DC GENERATOR\\0. 실험자료\\5. Final stage\\250317_저항 별 전류전압\\voltage\\5M.csv\n"
     ]
    }
   ],
   "source": [
    "# 파일이 있는 폴더 경로 %%%%%%%%%%%%%%%%%%%  파일이 아니라 폴더를 적으시오!!!!!!!!!!!!!%%%%%%%%%%%%%%%%%%%%\n",
    "folder_path = r\"C:\\Users\\GCU\\OneDrive - gachon.ac.kr\\HI Lab\\0. Projects\\0. On going\\1. DC GENERATOR\\0. 실험자료\\5. Final stage\\250317_저항 별 전류전압\\voltage\"\n",
    "\n",
    "# 해당 폴더 내 모든 CSV 파일 가져오기\n",
    "csv_files = glob.glob(os.path.join(folder_path, \"*.csv\"))\n",
    "\n",
    "# 모든 CSV 파일에 대해 필터링 적용\n",
    "for file_path in csv_files:\n",
    "    try:\n",
    "        # CSV 파일 로드 (헤더 없음)\n",
    "        df = pd.read_csv(file_path, header=None)\n",
    "\n",
    "        # 처음 21행을 제거하고 인덱스를 재설정\n",
    "        #df = df.iloc[21:].reset_index(drop=True)\n",
    "        \n",
    "        # 첫 번째 열(시간)의 값을 0으로 시작하도록 조정\n",
    "        initial_time = df.iloc[0, 0]\n",
    "        df.iloc[:, 0] = df.iloc[:, 0] - initial_time\n",
    "\n",
    "        # 변경된 데이터 덮어쓰기 (원본 파일 유지 X)\n",
    "        df.to_csv(file_path, index=False, header=False)\n",
    "\n",
    "        print(f\"Filtered data saved at: {file_path}\")\n",
    "\n",
    "    except Exception as e:\n",
    "        print(f\"Error processing {file_path}: {e}\")"
   ]
  }
 ],
 "metadata": {
  "kernelspec": {
   "display_name": "Python 3",
   "language": "python",
   "name": "python3"
  },
  "language_info": {
   "codemirror_mode": {
    "name": "ipython",
    "version": 3
   },
   "file_extension": ".py",
   "mimetype": "text/x-python",
   "name": "python",
   "nbconvert_exporter": "python",
   "pygments_lexer": "ipython3",
   "version": "3.11.9"
  }
 },
 "nbformat": 4,
 "nbformat_minor": 2
}
