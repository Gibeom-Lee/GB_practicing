{
 "cells": [
  {
   "cell_type": "code",
   "execution_count": 1,
   "metadata": {},
   "outputs": [],
   "source": [
    "# made by Gibeom LEE, HI LAB\n",
    "# 한 폴더안에 모든 csv파일의 맨 처음 21번째 행을 지웁니다. (오실로스코프 정보)\n",
    "# 또한, 시작하는 시간을 0초 부터 시작하게 합니다.\n",
    "# 한 파일을 중복해서 지우지 않게 주의하세요."
   ]
  },
  {
   "cell_type": "code",
   "execution_count": 1,
   "metadata": {},
   "outputs": [],
   "source": [
    "import pandas as pd\n",
    "import numpy as np\n",
    "import os\n",
    "import glob  # 폴더 내 파일 리스트 가져오는 라이브러리"
   ]
  },
  {
   "cell_type": "code",
   "execution_count": 4,
   "metadata": {},
   "outputs": [
    {
     "name": "stderr",
     "output_type": "stream",
     "text": [
      "C:\\Users\\GCU\\AppData\\Local\\Temp\\ipykernel_11024\\1474913168.py:11: DtypeWarning: Columns (0,1) have mixed types. Specify dtype option on import or set low_memory=False.\n",
      "  df = pd.read_csv(file_path, header=None)\n"
     ]
    },
    {
     "name": "stdout",
     "output_type": "stream",
     "text": [
      "Filtered data saved at: C:\\Users\\GCU\\OneDrive - gachon.ac.kr\\HI Lab\\0. Projects\\0. On going\\2. Aloe inspired DEG\\0. 실험자료\\2. Collecting data\\250410_이상전류\\function generator csv파일\\100ua.csv\n"
     ]
    },
    {
     "name": "stderr",
     "output_type": "stream",
     "text": [
      "C:\\Users\\GCU\\AppData\\Local\\Temp\\ipykernel_11024\\1474913168.py:11: DtypeWarning: Columns (0,1) have mixed types. Specify dtype option on import or set low_memory=False.\n",
      "  df = pd.read_csv(file_path, header=None)\n"
     ]
    },
    {
     "name": "stdout",
     "output_type": "stream",
     "text": [
      "Filtered data saved at: C:\\Users\\GCU\\OneDrive - gachon.ac.kr\\HI Lab\\0. Projects\\0. On going\\2. Aloe inspired DEG\\0. 실험자료\\2. Collecting data\\250410_이상전류\\function generator csv파일\\1ma.csv\n"
     ]
    },
    {
     "name": "stderr",
     "output_type": "stream",
     "text": [
      "C:\\Users\\GCU\\AppData\\Local\\Temp\\ipykernel_11024\\1474913168.py:11: DtypeWarning: Columns (0,1) have mixed types. Specify dtype option on import or set low_memory=False.\n",
      "  df = pd.read_csv(file_path, header=None)\n"
     ]
    },
    {
     "name": "stdout",
     "output_type": "stream",
     "text": [
      "Filtered data saved at: C:\\Users\\GCU\\OneDrive - gachon.ac.kr\\HI Lab\\0. Projects\\0. On going\\2. Aloe inspired DEG\\0. 실험자료\\2. Collecting data\\250410_이상전류\\function generator csv파일\\200ua.csv\n"
     ]
    },
    {
     "name": "stderr",
     "output_type": "stream",
     "text": [
      "C:\\Users\\GCU\\AppData\\Local\\Temp\\ipykernel_11024\\1474913168.py:11: DtypeWarning: Columns (0,1) have mixed types. Specify dtype option on import or set low_memory=False.\n",
      "  df = pd.read_csv(file_path, header=None)\n"
     ]
    },
    {
     "name": "stdout",
     "output_type": "stream",
     "text": [
      "Filtered data saved at: C:\\Users\\GCU\\OneDrive - gachon.ac.kr\\HI Lab\\0. Projects\\0. On going\\2. Aloe inspired DEG\\0. 실험자료\\2. Collecting data\\250410_이상전류\\function generator csv파일\\500ua.csv\n"
     ]
    },
    {
     "name": "stderr",
     "output_type": "stream",
     "text": [
      "C:\\Users\\GCU\\AppData\\Local\\Temp\\ipykernel_11024\\1474913168.py:11: DtypeWarning: Columns (0,1) have mixed types. Specify dtype option on import or set low_memory=False.\n",
      "  df = pd.read_csv(file_path, header=None)\n"
     ]
    },
    {
     "name": "stdout",
     "output_type": "stream",
     "text": [
      "Filtered data saved at: C:\\Users\\GCU\\OneDrive - gachon.ac.kr\\HI Lab\\0. Projects\\0. On going\\2. Aloe inspired DEG\\0. 실험자료\\2. Collecting data\\250410_이상전류\\function generator csv파일\\50ua.csv\n"
     ]
    }
   ],
   "source": [
    "# 파일이 있는 폴더 경로\n",
    "folder_path = r\"C:\\Users\\GCU\\OneDrive - gachon.ac.kr\\HI Lab\\0. Projects\\0. On going\\2. Aloe inspired DEG\\0. 실험자료\\2. Collecting data\\250410_이상전류\\function generator csv파일\"\n",
    "\n",
    "# 해당 폴더 내 모든 CSV 파일 가져오기\n",
    "csv_files = glob.glob(os.path.join(folder_path, \"*.csv\"))\n",
    "\n",
    "# 모든 CSV 파일에 대해 필터링 적용\n",
    "for file_path in csv_files:\n",
    "    try:\n",
    "        # CSV 파일 로드 (헤더 없음)\n",
    "        df = pd.read_csv(file_path, header=None)\n",
    "\n",
    "        # 처음 21행을 제거하고 인덱스를 재설정\n",
    "        df = df.iloc[21:].reset_index(drop=True)\n",
    "\n",
    "        # 컬럼명 설정 (시간, 전압)\n",
    "        df.columns = [\"Time\", \"Voltage\"]\n",
    "\n",
    "        # 문자열 데이터를 float로 변환\n",
    "        df[\"Time\"] = pd.to_numeric(df[\"Time\"], errors=\"coerce\")\n",
    "        df[\"Voltage\"] = pd.to_numeric(df[\"Voltage\"], errors=\"coerce\")\n",
    "\n",
    "        # 결측값 제거 (NaN 값이 있는 경우)\n",
    "        df = df.dropna().reset_index(drop=True)\n",
    "\n",
    "        # 시간 조정 (0초 기준으로 변환)\n",
    "        start_time = df.iloc[0, 0]\n",
    "        end_time = df.iloc[-1, 0]\n",
    "        num_rows = len(df)\n",
    "\n",
    "        if num_rows > 1:\n",
    "            total_time = end_time - start_time\n",
    "            time_interval = total_time / (num_rows - 1)\n",
    "            df[\"Time\"] = [i * time_interval for i in range(num_rows)]\n",
    "        else:\n",
    "            df[\"Time\"] = 0  # 데이터가 한 줄일 경우 0으로 설정\n",
    "\n",
    "        # 변경된 데이터 덮어쓰기 (원본 파일 유지 X)\n",
    "        df.to_csv(file_path, index=False, header=False)\n",
    "\n",
    "        print(f\"Filtered data saved at: {file_path}\")\n",
    "\n",
    "    except Exception as e:\n",
    "        print(f\"Error processing {file_path}: {e}\")\n"
   ]
  }
 ],
 "metadata": {
  "kernelspec": {
   "display_name": "Python 3",
   "language": "python",
   "name": "python3"
  },
  "language_info": {
   "codemirror_mode": {
    "name": "ipython",
    "version": 3
   },
   "file_extension": ".py",
   "mimetype": "text/x-python",
   "name": "python",
   "nbconvert_exporter": "python",
   "pygments_lexer": "ipython3",
   "version": "3.11.9"
  }
 },
 "nbformat": 4,
 "nbformat_minor": 2
}
