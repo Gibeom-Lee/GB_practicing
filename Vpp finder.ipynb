{
 "cells": [
  {
   "cell_type": "code",
   "execution_count": null,
   "id": "924d84cd",
   "metadata": {},
   "outputs": [],
   "source": [
    "# made by Gibeom LEE, HI LAB\n",
    "# 한 폴더 내 모든 csv 파일의 TENG Vpp값을 구할 때 유용합니다."
   ]
  },
  {
   "cell_type": "code",
   "execution_count": null,
   "id": "162e6950",
   "metadata": {},
   "outputs": [],
   "source": [
    "import os\n",
    "import pandas as pd\n",
    "import numpy as np\n",
    "import matplotlib.pyplot as plt\n",
    "from scipy.signal import find_peaks"
   ]
  },
  {
   "cell_type": "code",
   "execution_count": null,
   "id": "38ad0e84",
   "metadata": {},
   "outputs": [
    {
     "name": "stdout",
     "output_type": "stream",
     "text": [
      "0.5M_1_Vpp: 45.15 V\n",
      "0.5M_2_Vpp: 28.05 V\n",
      "0.5M_3_Vpp: 42.16 V\n",
      "0.5M_4_Vpp: 54.57 V\n",
      "0M_1_Vpp: 40.75 V\n",
      "0M_2_Vpp: 29.46 V\n",
      "0M_3_Vpp: 26.35 V\n",
      "0M_4_Vpp: 27.68 V\n",
      "1.5M_1_Vpp: 36.84 V\n",
      "1.5M_2_Vpp: 21.39 V\n",
      "1.5M_3_Vpp: 28.05 V\n",
      "1.5M_4_Vpp: 30.28 V\n",
      "1M_1_Vpp: 49.36 V\n",
      "1M_2_Vpp: 32.23 V\n",
      "1M_3_Vpp: 29.15 V\n",
      "1M_4_Vpp: 21.71 V\n",
      "2M_1_Vpp: 25.03 V\n",
      "2M_2_Vpp: 47.68 V\n",
      "2M_3_Vpp: 24.00 V\n",
      "2M_4_Vpp: 28.60 V\n"
     ]
    }
   ],
   "source": [
    "# 폴더 경로 지정\n",
    "folder_path = r\"C:\\Users\\limye\\OneDrive - gachon.ac.kr\\HI Lab\\0. Projects\\0. On going\\1. ionic DC-TENG\\0. 실험자료\\5. Final stage\\250409_mol6\\csv파일\"\n",
    "\n",
    "# 폴더 내 모든 CSV 파일 탐색\n",
    "csv_files = [f for f in os.listdir(folder_path) if f.endswith('.csv')]\n",
    "\n",
    "# 각 파일별 평균 Vpp 계산 및 그래프 그리기\n",
    "for file_name in csv_files:\n",
    "    file_path = os.path.join(folder_path, file_name)\n",
    "    try:\n",
    "        data = pd.read_csv(file_path)\n",
    "\n",
    "        # 시간과 전압 데이터 추출\n",
    "        time = data.iloc[:, 0].values\n",
    "        voltage = data.iloc[:, 1].values\n",
    "\n",
    "        # + / - 피크 탐지\n",
    "        pos_peaks, _ = find_peaks(voltage, height=5, distance=100)\n",
    "        neg_peaks, _ = find_peaks(-voltage, height=5, distance=100)\n",
    "\n",
    "        # 모든 피크 통합 후 정렬\n",
    "        all_peaks = np.sort(np.concatenate((pos_peaks, neg_peaks)))\n",
    "\n",
    "        # Vpp 계산\n",
    "        vpp_list = []\n",
    "        for i in range(len(all_peaks) - 1):\n",
    "            start = all_peaks[i]\n",
    "            end = all_peaks[i + 1]\n",
    "            if end > start:\n",
    "                vpp = np.max(voltage[start:end+1]) - np.min(voltage[start:end+1])\n",
    "                vpp_list.append(vpp)\n",
    "\n",
    "        mean_vpp = np.mean(vpp_list) if vpp_list else 0\n",
    "        base_name = os.path.splitext(file_name)[0]\n",
    "        print(f\"{base_name}_Vpp: {mean_vpp:.2f} V\")\n",
    "\n",
    "        # 피크 그래프 그리기\n",
    "        plt.figure(figsize=(10, 4))\n",
    "        plt.plot(time, voltage, label='Voltage', color='gray')\n",
    "        plt.plot(time[pos_peaks], voltage[pos_peaks], 'ro', label='Positive Peaks')\n",
    "        plt.plot(time[neg_peaks], voltage[neg_peaks], 'bo', label='Negative Peaks')\n",
    "        plt.title(f\"{base_name} - Peak Detection\")\n",
    "        plt.xlabel(\"Time (s)\")\n",
    "        plt.ylabel(\"Voltage (V)\")\n",
    "        plt.legend()\n",
    "        plt.tight_layout()\n",
    "        plt.show()\n",
    "\n",
    "    except Exception as e:\n",
    "        print(f\"{file_name} 처리 중 오류 발생: {e}\")"
   ]
  }
 ],
 "metadata": {
  "kernelspec": {
   "display_name": "base",
   "language": "python",
   "name": "python3"
  },
  "language_info": {
   "codemirror_mode": {
    "name": "ipython",
    "version": 3
   },
   "file_extension": ".py",
   "mimetype": "text/x-python",
   "name": "python",
   "nbconvert_exporter": "python",
   "pygments_lexer": "ipython3",
   "version": "3.11.7"
  }
 },
 "nbformat": 4,
 "nbformat_minor": 5
}
