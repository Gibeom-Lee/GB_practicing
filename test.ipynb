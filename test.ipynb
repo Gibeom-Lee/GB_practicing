{
 "cells": [
  {
   "cell_type": "code",
   "execution_count": null,
   "id": "7d8e6d69",
   "metadata": {},
   "outputs": [],
   "source": [
    "import os\n",
    "import pandas as pd\n",
    "import numpy as np\n",
    "\n",
    "def merge_voltage_series(file_paths, output_path):\n",
    "    dataframes = [pd.read_csv(fp, header=None) for fp in file_paths]\n",
    "    n_rows = len(dataframes[0])\n",
    "\n",
    "    # 첫 파일 마지막 시간값 → 반올림 → time_gap 계산\n",
    "    last_time = dataframes[0].iloc[-1, 0]\n",
    "    rounded_time = round(last_time)\n",
    "    time_gap = rounded_time / n_rows\n",
    "    print(f\"자동 계산된 time_gap: {time_gap:.5f}\")\n",
    "\n",
    "    gap = int(0.2 * n_rows)\n",
    "\n",
    "    # 최대 필요한 행 수 계산\n",
    "    total_rows = 0\n",
    "    for i in range(len(dataframes)):\n",
    "        total_rows += n_rows\n",
    "        if i != 0:\n",
    "            total_rows += gap * i  # 누적 gap\n",
    "\n",
    "    # 경고 출력\n",
    "    if total_rows >= 1_000_000:\n",
    "        print(f\"⚠ 경고: 생성될 파일의 행 수가 {total_rows:,}개로 1,000,000을 초과합니다. 파일 크기에 주의하세요.\")\n",
    "\n",
    "    # 배열 초기화\n",
    "    n_cols = len(dataframes) + 1  # time + 전압 열\n",
    "    result_array = np.full((total_rows, n_cols), np.nan)\n",
    "\n",
    "    # 시간열 생성\n",
    "    result_array[:, 0] = np.arange(0, total_rows) * time_gap\n",
    "\n",
    "    # 전압 데이터 삽입\n",
    "    row_pos = 0\n",
    "    for i, df in enumerate(dataframes):\n",
    "        if i != 0:\n",
    "            row_pos += gap * i\n",
    "        result_array[row_pos:row_pos + n_rows, i + 1] = df.iloc[:, 1].values\n",
    "        row_pos += n_rows\n",
    "\n",
    "    # CSV 저장 (헤더 없이)\n",
    "    pd.DataFrame(result_array).to_csv(output_path, index=False, header=False, float_format=\"%.6f\")\n",
    "    print(f\"병합된 파일이 저장되었습니다: {output_path}\")\n"
   ]
  },
  {
   "cell_type": "code",
   "execution_count": null,
   "id": "ad6ade46",
   "metadata": {},
   "outputs": [
    {
     "name": "stdout",
     "output_type": "stream",
     "text": [
      "자동 계산된 time_gap: 0.000500\n",
      "병합된 파일이 저장되었습니다: C:/Users/limye/OneDrive - gachon.ac.kr/HI Lab/0. Projects/0. On going/2. Aloe inspired DEG/0. 실험자료/2. Collecting data/250624_12개의 샘플/minimized_data/depth\\Depth_generated.csv\n"
     ]
    }
   ],
   "source": [
    "folder = r\"C:/Users/limye/OneDrive - gachon.ac.kr/HI Lab/0. Projects/0. On going/2. Aloe inspired DEG/0. 실험자료/2. Collecting data/250624_12개의 샘플/minimized_data/depth\"\n",
    "file_names = [\"D3.csv\", \"D4.csv\", \"D5.csv\", \"D6.csv\"]\n",
    "file_paths = [os.path.join(folder, f) for f in file_names]\n",
    "\n",
    "output_path = os.path.join(folder, \"Merge.csv\")\n",
    "\n",
    "merge_voltage_series(file_paths, output_path)"
   ]
  }
 ],
 "metadata": {
  "kernelspec": {
   "display_name": "base",
   "language": "python",
   "name": "python3"
  },
  "language_info": {
   "codemirror_mode": {
    "name": "ipython",
    "version": 3
   },
   "file_extension": ".py",
   "mimetype": "text/x-python",
   "name": "python",
   "nbconvert_exporter": "python",
   "pygments_lexer": "ipython3",
   "version": "3.11.7"
  }
 },
 "nbformat": 4,
 "nbformat_minor": 5
}
