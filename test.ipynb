{
 "cells": [
  {
   "cell_type": "code",
   "execution_count": null,
   "id": "e15fb2a7",
   "metadata": {},
   "outputs": [
    {
     "name": "stdout",
     "output_type": "stream",
     "text": [
      "총 프레임 수: 300\n",
      "FPS: 30.0\n",
      "동영상 길이: 10.000 초\n"
     ]
    }
   ],
   "source": [
    "import cv2\n",
    "#영상 길이 몇초\n",
    "# 동영상 불러오기\n",
    "video_path = r\"C:\\Users\\user\\Downloads\\Flat_0.01X_10sec.mp4\"\n",
    "\n",
    "cap = cv2.VideoCapture(video_path)\n",
    "\n",
    "# 총 프레임 수\n",
    "frame_count = int(cap.get(cv2.CAP_PROP_FRAME_COUNT))\n",
    "\n",
    "# FPS (Frame Per Second)\n",
    "fps = cap.get(cv2.CAP_PROP_FPS)ㄴ\n",
    "\n",
    "# 동영상 전체 길이 (초 단위, 소수점 포함)\n",
    "duration = frame_count / fps\n",
    "\n",
    "print(\"총 프레임 수:\", frame_count)\n",
    "print(\"FPS:\", fps)\n",
    "print(f\"동영상 길이: {duration:.3f} 초\")"
   ]
  }
 ],
 "metadata": {
  "kernelspec": {
   "display_name": "Python 3",
   "language": "python",
   "name": "python3"
  },
  "language_info": {
   "codemirror_mode": {
    "name": "ipython",
    "version": 3
   },
   "file_extension": ".py",
   "mimetype": "text/x-python",
   "name": "python",
   "nbconvert_exporter": "python",
   "pygments_lexer": "ipython3",
   "version": "3.11.9"
  }
 },
 "nbformat": 4,
 "nbformat_minor": 5
}
