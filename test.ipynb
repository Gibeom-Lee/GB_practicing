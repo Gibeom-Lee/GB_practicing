{
 "cells": [
  {
   "cell_type": "code",
   "execution_count": 8,
   "id": "feb12f75",
   "metadata": {},
   "outputs": [],
   "source": [
    "import pandas as pd\n",
    "import numpy as np\n",
    "import os\n",
    "import glob  # 폴더 내 파일 리스트 가져오는 라이브러리"
   ]
  },
  {
   "cell_type": "code",
   "execution_count": 15,
   "id": "c29c5f55",
   "metadata": {},
   "outputs": [],
   "source": [
    "# 파일이 있는 폴더 경로\n",
    "folder_path = r\"C:\\Users\\user\\OneDrive - gachon.ac.kr\\HI Lab\\0. Projects\\0. On going\\2. Aloe inspired DEG\\0. 실험자료\\4. Data measurement\\250810_일단 전압전류\\csv파일\\minimized_전류\\Flat전류_추출\"\n"
   ]
  },
  {
   "cell_type": "code",
   "execution_count": 16,
   "id": "a842cb73",
   "metadata": {},
   "outputs": [
    {
     "name": "stdout",
     "output_type": "stream",
     "text": [
      "저장 완료: 10_Cut_A_flat_2_10uAV.csv\n",
      "저장 완료: 10_Cut_A_flat_4_10uAV.csv\n",
      "저장 완료: 10_Cut_A_flat_6_10uAV.csv\n",
      "저장 완료: 10_Cut_A_flat_8_10uAV.csv\n",
      "모든 CSV 파일 처리가 완료되었습니다.\n"
     ]
    }
   ],
   "source": [
    "# 곱할 값\n",
    "multiply_value = 10\n",
    "\n",
    "# 폴더 내 모든 CSV 파일 경로 가져오기\n",
    "csv_files = glob.glob(os.path.join(folder_path, \"*.csv\"))\n",
    "\n",
    "for file_path in csv_files:\n",
    "    try:\n",
    "        # CSV 읽기 (헤더 없는 경우 header=None)\n",
    "        df = pd.read_csv(file_path, header=None)\n",
    "\n",
    "        # 2열(인덱스 1)에 multiply_value 곱하기\n",
    "        df[1] = df[1] * multiply_value\n",
    "\n",
    "        # 원본 파일명과 확장자 분리\n",
    "        dir_name, file_name = os.path.split(file_path)\n",
    "\n",
    "        # 새로운 파일명 만들기 (예: 10_filename.csv)\n",
    "        new_file_name = f\"{multiply_value}_{file_name}\"\n",
    "        new_file_path = os.path.join(dir_name, new_file_name)\n",
    "\n",
    "        # 새로운 파일로 저장\n",
    "        df.to_csv(new_file_path, index=False, header=False)\n",
    "\n",
    "        print(f\"저장 완료: {new_file_name}\")\n",
    "\n",
    "    except Exception as e:\n",
    "        print(f\"오류 발생 ({file_path}): {e}\")\n",
    "\n",
    "print(\"모든 CSV 파일 처리가 완료되었습니다.\")"
   ]
  }
 ],
 "metadata": {
  "kernelspec": {
   "display_name": "Python 3",
   "language": "python",
   "name": "python3"
  },
  "language_info": {
   "codemirror_mode": {
    "name": "ipython",
    "version": 3
   },
   "file_extension": ".py",
   "mimetype": "text/x-python",
   "name": "python",
   "nbconvert_exporter": "python",
   "pygments_lexer": "ipython3",
   "version": "3.11.9"
  }
 },
 "nbformat": 4,
 "nbformat_minor": 5
}
