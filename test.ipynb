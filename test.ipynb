{
 "cells": [
  {
   "cell_type": "code",
   "execution_count": 1,
   "id": "7d8e6d69",
   "metadata": {},
   "outputs": [],
   "source": [
    "import pandas as pd\n",
    "import numpy as np\n",
    "import os\n",
    "import glob"
   ]
  },
  {
   "cell_type": "code",
   "execution_count": 2,
   "id": "feb12f75",
   "metadata": {},
   "outputs": [
    {
     "name": "stdout",
     "output_type": "stream",
     "text": [
      "모든 CSV 파일의 1열이 성공적으로 수정되었습니다.\n"
     ]
    }
   ],
   "source": [
    "# CSV 파일들이 들어 있는 폴더 경로 지정\n",
    "folder_path = r'C:\\Users\\GCU\\OneDrive - gachon.ac.kr\\HI Lab\\0. Projects\\0. On going\\2. Aloe inspired DEG\\0. 실험자료\\3. Material selection\\250728_코팅 별 A-DEG 총 평가\\밤에 희망적\\10k_csv파일'  # 예: '/Users/username/Documents/csv_files'\n",
    "\n",
    "# 새로운 1열 데이터 생성 (총 10,000개)\n",
    "new_column = np.arange(0, 10.000, 0.001)  # 0부터 9.999까지, 간격 0.001\n",
    "\n",
    "# 폴더 내 모든 CSV 파일 처리\n",
    "for filename in os.listdir(folder_path):\n",
    "    if filename.endswith('.csv'):\n",
    "        file_path = os.path.join(folder_path, filename)\n",
    "\n",
    "        # CSV 파일 읽기\n",
    "        df = pd.read_csv(file_path, header=None)\n",
    "\n",
    "        # 길이를 맞춰 1열을 새 값으로 대체\n",
    "        row_count = len(new_column)\n",
    "        if len(df) < row_count:\n",
    "            # 부족한 만큼 빈 행 추가\n",
    "            for _ in range(row_count - len(df)):\n",
    "                df.loc[len(df)] = [None] * len(df.columns)\n",
    "        df.iloc[:row_count, 0] = new_column\n",
    "\n",
    "        # 결과 저장 (덮어쓰기)\n",
    "        df.to_csv(file_path, index=False, header=False)\n",
    "\n",
    "print(\"모든 CSV 파일의 1열이 성공적으로 수정되었습니다.\")\n"
   ]
  }
 ],
 "metadata": {
  "kernelspec": {
   "display_name": "Python 3",
   "language": "python",
   "name": "python3"
  },
  "language_info": {
   "codemirror_mode": {
    "name": "ipython",
    "version": 3
   },
   "file_extension": ".py",
   "mimetype": "text/x-python",
   "name": "python",
   "nbconvert_exporter": "python",
   "pygments_lexer": "ipython3",
   "version": "3.11.9"
  }
 },
 "nbformat": 4,
 "nbformat_minor": 5
}
