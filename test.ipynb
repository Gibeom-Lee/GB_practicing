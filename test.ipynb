{
 "cells": [
  {
   "cell_type": "code",
   "execution_count": 8,
   "id": "e15fb2a7",
   "metadata": {},
   "outputs": [
    {
     "name": "stdout",
     "output_type": "stream",
     "text": [
      "Saved scaled CSV to: C:\\Users\\user\\Desktop\\Drive파일\\HI Lab\\0. Projects\\0. On going\\2. Aloe inspired DEG\\0. 실험자료\\4. Data measurement\\250904_다 찍기\\csv파일\\전압 전류 전하\\scaled_V_distance.csv\n"
     ]
    }
   ],
   "source": [
    "import pandas as pd\n",
    "import os\n",
    "\n",
    "# CSV 불러오기\n",
    "file_path = r\"C:\\Users\\user\\Desktop\\Drive파일\\HI Lab\\0. Projects\\0. On going\\2. Aloe inspired DEG\\0. 실험자료\\4. Data measurement\\250904_다 찍기\\csv파일\\전압 전류 전하\\V_distance.csv\"\n",
    "df = pd.read_csv(file_path, header=None)\n",
    "\n",
    "# 첫 번째 열 제외하고 나머지 열에 10 곱하기\n",
    "df.iloc[:, 1:] = df.iloc[:, 1:] * 10\n",
    "\n",
    "# 저장 경로 만들기\n",
    "folder = os.path.dirname(file_path)                        # 원래 폴더\n",
    "filename = os.path.basename(file_path)                     # 원래 파일명\n",
    "output_path = os.path.join(folder, \"scaled_\" + filename)   # scaled_ 붙이기\n",
    "\n",
    "# 결과 저장\n",
    "df.to_csv(output_path, index=False, header=False, float_format=\"%.6f\")\n",
    "\n",
    "print(f\"Saved scaled CSV to: {output_path}\")\n"
   ]
  }
 ],
 "metadata": {
  "kernelspec": {
   "display_name": "Python 3",
   "language": "python",
   "name": "python3"
  },
  "language_info": {
   "codemirror_mode": {
    "name": "ipython",
    "version": 3
   },
   "file_extension": ".py",
   "mimetype": "text/x-python",
   "name": "python",
   "nbconvert_exporter": "python",
   "pygments_lexer": "ipython3",
   "version": "3.11.9"
  }
 },
 "nbformat": 4,
 "nbformat_minor": 5
}
