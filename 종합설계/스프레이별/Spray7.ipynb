{
 "cells": [
  {
   "cell_type": "code",
   "execution_count": 1,
   "id": "c46e50b9",
   "metadata": {},
   "outputs": [
    {
     "name": "stdout",
     "output_type": "stream",
     "text": [
      "\n",
      "챔버 내부 속도: 0.025 m/s\n",
      "\n",
      "출구 속도 hs: 5.664 m/s\n",
      "웨버 수 hs: 154\n",
      "레이놀즈 수: 1983\n"
     ]
    }
   ],
   "source": [
    "import numpy as np\n",
    "\n",
    "# 상수 정의\n",
    "rho = 1000            # 물의 밀도 [kg/m^3]\n",
    "sigma = 0.0728        # 물의 표면장력 [N/m]\n",
    "f = 0.03              # 마찰 계수\n",
    "K = 1.1               # 손실 계수 \n",
    "\n",
    "#안쓰는 애들 \n",
    "k1 = 1300             # 하부 스프링 상수 [N/m] -> 만능시험기 \n",
    "k2 = 2600             # 상부 스프링 상수 [N/m] \n",
    "F_finger = 18         #[N] -> 만능시험기 \n",
    "\n",
    "# 변수 정의\n",
    "m = 0.154 * 1e-3  #[kg]\n",
    "D_p = 6.28 * 1e-3            # 피스톤 직경 [m]\n",
    "D_out2 = 350 * 1e-6# 노즐 출구 직경 [m] - 측정 불가로 임의 설정  \n",
    "D_in = 1.72 * 1e-3    # m 노즐 인렛 직경\n",
    "L_in = 55.33 * 1e-3      # m 노즐 인렛 길이\n",
    "t = 0.195 # 피스톤 누르는데 걸린 시간 \n",
    "mu = 0.001 # [kg/m s] 점도 -> 1 cP와 같음\n",
    "\n",
    "# ✅ Step 3: 등가 스프링 상수 계산 (직렬 연결) - 어차피 안씀 \n",
    "#k_eq = (k1 * k2) / (k1 + k2)\n",
    "#x = 0.02              # 피스톤 압축 거리 [m]\n",
    "#F_total = F_finger - k_eq * x\n",
    "#F_total = 0.006\n",
    "\n",
    "# ✅ Step 2: 피스톤 단면적 계산\n",
    "A_p = (np.pi * D_p**2) / 4  # [m^2]\n",
    "\n",
    "# ✅ Step 4: 출구 속도 계산 (베르누이 기반)\n",
    "#################################################################################################################################\n",
    "v_chamber = m/(rho*t*A_p) \n",
    "#v_chamber=0.176\n",
    "#v_chamber=np.sqrt((2*F_total)/(rho*A_p))\n",
    "#v_chamber=v_chamber-(v_chamber*0.89*A_p)/(4.15*1e-3)\n",
    "\n",
    "#v_out2 = (1/np.sqrt(1+f*(L_in/D_in)+K))*(D_p**2/D_out2**2)*np.sqrt((8*F_total) / np.pi*rho)\n",
    "v_hs   = (1/np.sqrt(1+K))*(D_p**2/D_out2**2)*v_chamber\n",
    "#감속텀 = (1/np.sqrt(1+f*(L_in/D_in)+K))#\n",
    "#$직경텀 = D_p**2/D_out2**2\n",
    "\n",
    "# ✅ Step 5: 웨버수 계산\n",
    "#We = (rho * v_out2**2 * D_out2) / sigma\n",
    "We_hs = (rho * v_hs**2 * D_out2) / sigma\n",
    "Re = (rho * v_hs * D_out2) / mu\n",
    "# ✅ Step 6: 결과 출력\n",
    "#print(f\"식 첫째 항: {1/np.sqrt(1+f*(L_in/D_in)+K):.2f}\")\n",
    "#print(f\"식 둘째 항: {(D_p/D_out2**2):.2f}\")\n",
    "#print(f\"식 셋째 항: {np.sqrt((8*F_total) / np.pi*rho):.2f}\")\n",
    "print()\n",
    "#print(f\"알짜 힘: {F_finger - k_eq * x:.2f} N\")\n",
    "#print(f\"출구 속도: {v_out2:.3f} m/s\")\n",
    "#print(f\"감속텀: {감속텀:.3f} m/s\")\n",
    "#print(f\"직경텀: {직경텀:.3f} m/s\")\n",
    "#print(f\"속도텀 제외: {감속텀*직경텀:.3f} m/s\")\n",
    "#print(f\"예상 속도텀: {10/(감속텀*직경텀):.3f} m/s\")\n",
    "print(f\"챔버 내부 속도: {v_chamber:.3f} m/s\")\n",
    "print()\n",
    "#print(f\"웨버수   : {We:.2f}\")\n",
    "print(f\"출구 속도 hs: {v_hs:.3f} m/s\")\n",
    "print(f\"웨버 수 hs: {We_hs:.0f}\")\n",
    "print(f\"레이놀즈 수: {Re:.0f}\")"
   ]
  }
 ],
 "metadata": {
  "kernelspec": {
   "display_name": "Python 3",
   "language": "python",
   "name": "python3"
  },
  "language_info": {
   "codemirror_mode": {
    "name": "ipython",
    "version": 3
   },
   "file_extension": ".py",
   "mimetype": "text/x-python",
   "name": "python",
   "nbconvert_exporter": "python",
   "pygments_lexer": "ipython3",
   "version": "3.11.9"
  }
 },
 "nbformat": 4,
 "nbformat_minor": 5
}
