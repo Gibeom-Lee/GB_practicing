{
 "cells": [
  {
   "cell_type": "code",
   "execution_count": null,
   "id": "e959ef3b",
   "metadata": {},
   "outputs": [
    {
     "name": "stdout",
     "output_type": "stream",
     "text": [
      "식 첫째 항: 0.513\n",
      "식 둘째 항: 21040\n",
      "식 셋째 항: 0.041\n",
      "\n",
      "피스톤 속도: 0.107 m/s\n",
      "노즐 inlet 속도: 2.639 m/s\n",
      "노즐 outlet 직전 속도도: 5.144 m/s\n",
      "\n",
      "알짜 힘: 0.667 N\n",
      "출구 속도: 23.119 m/s\n",
      "Weber 수: 3671\n",
      "입자 크기: 0.191 mm\n"
     ]
    }
   ],
   "source": [
    "import numpy as np\n",
    "\n",
    "# ✅ 상수 정의\n",
    "rho = 1000            # 물의 밀도 [kg/m^3]\n",
    "sigma = 0.0728        # 물의 표면장력 [N/m]\n",
    "\n",
    "# 변수 정의\n",
    "D_p = 5.26 * 1e-3            # 피스톤 직경 [m]\n",
    "D_out2 = 500 * 1e-6     # 노즐 출구 직경 [m]\n",
    "k1 = 1300             # 하부 스프링 상수 [N/m] -> 만능시험기 \n",
    "k2 = 2600             # 상부 스프링 상수 [N/m]\n",
    "x = 0.02              # 피스톤 압축 거리 [m]\n",
    "F_finger = 18         #[N] -> 만능시험기 \n",
    "\n",
    "D_in = D_out1 = 1.06 * 1e-3    # m 노즐 인렛 직경\n",
    "L_in = 60 * 1e-3      # m 노즐 인렛 길이\n",
    "f = 0.03              # 마찰 계수\n",
    "\n",
    "K = 1.1               # 손실 계수 \n",
    "\n",
    "\n",
    "# ✅ 등가 스프링 상수 계산 (직렬 연결)\n",
    "k_eq = (k1 * k2) / (k1 + k2)\n",
    "F_total = F_finger - k_eq * x\n",
    "\n",
    "# ✅ 피스톤 단면적 계산\n",
    "A_p = (np.pi * D_p**2) / 4  # [m^2]\n",
    "\n",
    "# 1. 피스톤의 속도 구하기\n",
    "v_p = np.sqrt(2*F_total/(rho*A_p)) #힘으로 계산하면 너무 크게 나와서 직접 촬영하는게 더 나을듯 함.\n",
    "v_p = 0.10719 #[m/s] - 실제 분사 영상으로 계산한 속도\n",
    "\n",
    "# 2. 직경 대비 노즐 inlet으로 들어가는 속도 구하기\n",
    "v_in = v_p*(D_p**2/D_in**2)\n",
    "\n",
    "# 3. Outlet 직전 속도 구하기\n",
    "v_out1 = v_in/(1/np.sqrt(1+f*(L_in/D_in)+K))\n",
    "\n",
    "# 4. 직경 대비 노즐 outlet 직후 속도 구하기\n",
    "v_out2 = v_out1*(D_out1**2/D_out2**2)\n",
    "\n",
    "# ✅ Step 5: 웨버수 계산\n",
    "We = (rho * v_out2**2 * D_out2) / sigma\n",
    "D_particle = 1.95 * D_out2 * (1.293 / rho)**(-1/6) * (We**(-1/3))\n",
    "\n",
    "# ✅ Step 6: 결과 출력\n",
    "print(f\"식 첫째 항: {((1/np.sqrt(1+f*(L_in/D_in)+K))):.3f}\")\n",
    "print(f\"식 둘째 항: {((D_p/D_out2**2)):.0f}\")\n",
    "print(f\"식 셋째 항: {(np.sqrt((8*F_total) / (np.pi*rho))):.3f}\")\n",
    "print( )\n",
    "print(f\"피스톤 속도: {(v_p):.3f} m/s\")\n",
    "print(f\"노즐 inlet 속도: {(v_in):.3f} m/s\")\n",
    "print(f\"노즐 outlet 직전 속도도: {(v_out1):.3f} m/s\")\n",
    "print( )\n",
    "print(f\"알짜 힘: {F_total:.3f} N\")\n",
    "print(f\"출구 속도: {v_out2:.3f} m/s\")\n",
    "print(f\"Weber 수: {We:.0f}\")\n",
    "print(f\"입자 크기: {D_particle*1000:.3f} mm\")"
   ]
  }
 ],
 "metadata": {
  "kernelspec": {
   "display_name": "Python 3",
   "language": "python",
   "name": "python3"
  },
  "language_info": {
   "codemirror_mode": {
    "name": "ipython",
    "version": 3
   },
   "file_extension": ".py",
   "mimetype": "text/x-python",
   "name": "python",
   "nbconvert_exporter": "python",
   "pygments_lexer": "ipython3",
   "version": "3.11.9"
  }
 },
 "nbformat": 4,
 "nbformat_minor": 5
}
