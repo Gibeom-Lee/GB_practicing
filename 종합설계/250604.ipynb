{
 "cells": [
  {
   "cell_type": "code",
   "execution_count": 18,
   "id": "e959ef3b",
   "metadata": {},
   "outputs": [
    {
     "name": "stdout",
     "output_type": "stream",
     "text": [
      "알짜 힘: 3.33 N\n",
      "출구 속도: 10.60 m/s\n",
      "웨버수: 771.14\n"
     ]
    }
   ],
   "source": [
    "import numpy as np\n",
    "\n",
    "# ✅ Step 1: 상수 정의\n",
    "rho = 1000            # 물의 밀도 [kg/m^3]\n",
    "sigma = 0.0728        # 물의 표면장력 [N/m]\n",
    "K = 1.1               # 손실 계수 (노즐, 마찰, 밸브 등 고려---불확실) -> ???? \n",
    "\n",
    "# 변수 정의\n",
    "Dp = 0.006            # 피스톤 직경 [m]\n",
    "d_nozzle = 0.0005     # 노즐 출구 직경 [m]\n",
    "k1 = 1300             # 하부 스프링 상수 [N/m] -> 만능시험기 \n",
    "k2 = 2600             # 상부 스프링 상수 [N/m]\n",
    "x = 0.01              # 피스톤 압축 거리 [m]\n",
    "F_finger = 12         #[N] -> 만능시험기 \n",
    "\n",
    "# ✅ Step 3: 등가 스프링 상수 계산 (직렬 연결)\n",
    "k_eq = (k1 * k2) / (k1 + k2)\n",
    "F_total = F_finger - k_eq * x\n",
    "\n",
    "# ✅ Step 2: 피스톤 단면적 계산\n",
    "A_p = (np.pi * Dp**2) / 4  # [m^2]\n",
    "\n",
    "\n",
    "\n",
    "# ✅ Step 4: 출구 속도 계산 (베르누이 기반)\n",
    "v_out = np.sqrt((2 *F_total) / (rho * A_p * (1 + K)))\n",
    "\n",
    "# ✅ Step 5: 웨버수 계산\n",
    "We = (rho * v_out**2 * d_nozzle) / sigma\n",
    "\n",
    "# ✅ Step 6: 결과 출력\n",
    "print(f\"알짜 힘: {F_finger - k_eq * x:.2f} N\")\n",
    "print(f\"출구 속도: {v_out:.2f} m/s\")\n",
    "print(f\"웨버수: {We:.2f}\")"
   ]
  }
 ],
 "metadata": {
  "kernelspec": {
   "display_name": "Python 3",
   "language": "python",
   "name": "python3"
  },
  "language_info": {
   "codemirror_mode": {
    "name": "ipython",
    "version": 3
   },
   "file_extension": ".py",
   "mimetype": "text/x-python",
   "name": "python",
   "nbconvert_exporter": "python",
   "pygments_lexer": "ipython3",
   "version": "3.11.9"
  }
 },
 "nbformat": 4,
 "nbformat_minor": 5
}
