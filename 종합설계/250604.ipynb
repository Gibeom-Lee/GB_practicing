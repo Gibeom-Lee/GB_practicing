{
 "cells": [
  {
   "cell_type": "code",
   "execution_count": null,
   "id": "e959ef3b",
   "metadata": {},
   "outputs": [
    {
     "name": "stdout",
     "output_type": "stream",
     "text": [
      "7.833190408581799\n",
      "식 첫째 항: 0.51\n",
      "식 둘째 항: 21040.00\n",
      "식 셋째 항: 0.04\n",
      "\n",
      "알짜 힘: 0.67 N\n",
      "출구 속도: 444.82 m/s\n",
      "웨버수: 1358973.68\n"
     ]
    }
   ],
   "source": [
    "import numpy as np\n",
    "\n",
    "# ✅ Step 1: 상수 정의\n",
    "rho = 1000            # 물의 밀도 [kg/m^3]\n",
    "sigma = 0.0728        # 물의 표면장력 [N/m]\n",
    "\n",
    "# 변수 정의\n",
    "D_p = 5.26 * 1e-3            # 피스톤 직경 [m]\n",
    "D_out2 = 500 * 1e-6     # 노즐 출구 직경 [m]\n",
    "k1 = 1300             # 하부 스프링 상수 [N/m] -> 만능시험기 \n",
    "k2 = 2600             # 상부 스프링 상수 [N/m]\n",
    "x = 0.02              # 피스톤 압축 거리 [m]\n",
    "F_finger = 18         #[N] -> 만능시험기 \n",
    "\n",
    "D_in = 1.06 * 1e-3    # m 노즐 인렛 직경\n",
    "L_in = 60 * 1e-3      # m 노즐 인렛 길이\n",
    "f = 0.03              # 마찰 계수\n",
    "\n",
    "K = 1.1               # 손실 계수 \n",
    "\n",
    "# ✅ Step 3: 등가 스프링 상수 계s산 (직렬 연결)\n",
    "k_eq = (k1 * k2) / (k1 + k2)\n",
    "F_total = F_finger - k_eq * x\n",
    "\n",
    "# ✅ Step 2: 피스톤 단면적 계산\n",
    "A_p = (np.pi * D_p**2) / 4  # [m^2]\n",
    "\n",
    "# ✅ Step 4: 출구 속도 계산 (베르누이 기반)\n",
    "v_out2 = (1/np.sqrt(1+f*(L_in/D_in)+K))*(D_p/D_out2**2)*np.sqrt((8*F_total) / (np.pi*rho))\n",
    "\n",
    "# ✅ Step 5: 웨버수 계산\n",
    "We = (rho * v_out2**2 * D_out2) / sigma\n",
    "\n",
    "print(np.sqrt(2*F_total/(rho*A_p)))\n",
    "\n",
    "\n",
    "# ✅ Step 6: 결과 출력\n",
    "print(f\"식 첫째 항: {((1/np.sqrt(1+f*(L_in/D_in)+K))):.2f}\")\n",
    "print(f\"식 둘째 항: {((D_p/D_out2**2)):.2f}\")\n",
    "print(f\"식 셋째 항: {(np.sqrt((8*F_total) / (np.pi*rho))):.2f}\")\n",
    "print( )\n",
    "print(f\"알짜 힘: {F_total:.2f} N\")\n",
    "print(f\"출구 속도: {v_out2:.2f} m/s\")\n",
    "print(f\"웨버수: {We:.2f}\")"
   ]
  }
 ],
 "metadata": {
  "kernelspec": {
   "display_name": "Python 3",
   "language": "python",
   "name": "python3"
  },
  "language_info": {
   "codemirror_mode": {
    "name": "ipython",
    "version": 3
   },
   "file_extension": ".py",
   "mimetype": "text/x-python",
   "name": "python",
   "nbconvert_exporter": "python",
   "pygments_lexer": "ipython3",
   "version": "3.11.9"
  }
 },
 "nbformat": 4,
 "nbformat_minor": 5
}
