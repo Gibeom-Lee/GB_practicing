{
 "cells": [
  {
   "cell_type": "code",
   "execution_count": 14,
   "id": "e15fb2a7",
   "metadata": {},
   "outputs": [],
   "source": [
    "import os\n",
    "import glob\n",
    "import numpy as np\n",
    "import pandas as pd\n",
    "from scipy.signal import find_peaks\n",
    "import matplotlib.pyplot as plt # Matplotlib import 추가\n",
    "\n",
    "# ================= 사용자 설정 =================\n",
    "# 폴더 경로\n",
    "folder_path = r\"C:\\Users\\user\\Desktop\\Drive파일\\HI Lab\\0. Projects\\0. On going\\2. Aloe inspired DEG\\0. 실험자료\\4. Data measurement\\251019_데모 데이터\\minimized_csv파일 - 복사본\"\n",
    "\n",
    "# 사용자 설정값 (피크 탐지 기준)\n",
    "prominence_ratio = 0.3 # 신호의 표준편차(std)에 곱해 피크 prominence 기준을 설정\n",
    "min_prominence = 0.1   # prominence의 최솟값 제한\n",
    "min_distance_sec = 0.15 # 인접한 피크 간 최소 시간 간격 (초 단위)\n",
    "snr_threshold = 1      # Signal-to-Noise Ratio 기준값\n",
    "min_relative_height = 0.1 # 전체 최대 진폭 설정 (ex: 0.2는 20% 이상)\n",
    "\n",
    "# 그래프 설정\n",
    "y_range = (-150, 20) # (None, None) 또는 (-70, 5)와 같이 지정\n",
    "#y_range = (None, None)"
   ]
  },
  {
   "cell_type": "code",
   "execution_count": 2,
   "id": "892c41a2",
   "metadata": {},
   "outputs": [
    {
     "name": "stdout",
     "output_type": "stream",
     "text": [
      "\n",
      "파일 경로: C:\\Users\\user\\Desktop\\Drive파일\\HI Lab\\0. Projects\\0. On going\\2. Aloe inspired DEG\\0. 실험자료\\4. Data measurement\\251017_데모 영상\\Aloe DEG.mp4\n",
      "▶️ 영상의 정확한 길이는 22.767 초 입니다.\n",
      "⏱️ (00분 22.767초)\n"
     ]
    }
   ],
   "source": [
    "import cv2\n",
    "import os\n",
    "\n",
    "# 1. 확인하고자 하는 동영상 파일의 경로를 여기에 입력하세요.\n",
    "# 예시: video_file_path = \"C:/Users/User/Videos/sample.mp4\"\n",
    "video_file_path = r\"C:\\Users\\user\\Desktop\\Drive파일\\HI Lab\\0. Projects\\0. On going\\2. Aloe inspired DEG\\0. 실험자료\\4. Data measurement\\251017_데모 영상\\Aloe DEG.mp4\"\n",
    "\n",
    "def get_video_duration(video_path: str) -> float | None:\n",
    "    \"\"\"\n",
    "    OpenCV를 사용하여 동영상 파일의 길이를 초 단위로 계산합니다.\n",
    "\n",
    "    :param video_path: 동영상 파일의 전체 경로 (str)\n",
    "    :return: 동영상의 길이(초), 파일을 찾지 못하거나 처리 오류 발생 시 None 반환\n",
    "    \"\"\"\n",
    "    if not os.path.exists(video_path):\n",
    "        print(f\"오류: 파일을 찾을 수 없습니다. 경로를 확인해 주세요: {video_path}\")\n",
    "        return None\n",
    "\n",
    "    # cv2.VideoCapture 객체 생성\n",
    "    cap = cv2.VideoCapture(video_path)\n",
    "    \n",
    "    # 캡처 객체가 제대로 열렸는지 확인\n",
    "    if not cap.isOpened():\n",
    "        print(f\"오류: 동영상 파일을 열 수 없습니다. 파일 형식 또는 코덱을 확인해 주세요.\")\n",
    "        return None\n",
    "\n",
    "    try:\n",
    "        # 1. 초당 프레임 수 (FPS) 가져오기\n",
    "        # cv2.CAP_PROP_FPS는 동영상의 프레임 속도를 나타냅니다.\n",
    "        fps = cap.get(cv2.CAP_PROP_FPS)\n",
    "        \n",
    "        # 2. 총 프레임 수 가져오기\n",
    "        # cv2.CAP_PROP_FRAME_COUNT는 동영상에 포함된 총 프레임 수를 나타냅니다.\n",
    "        frame_count = cap.get(cv2.CAP_PROP_FRAME_COUNT)\n",
    "\n",
    "        if fps > 0 and frame_count > 0:\n",
    "            # 길이 = 총 프레임 수 / 초당 프레임 수\n",
    "            duration_seconds = frame_count / fps\n",
    "            return duration_seconds\n",
    "        else:\n",
    "            print(\"오류: FPS 또는 프레임 수를 가져올 수 없습니다. 파일이 손상되었을 수 있습니다.\")\n",
    "            return None\n",
    "\n",
    "    finally:\n",
    "        # 사용 후 캡처 객체를 해제합니다. (자원 반환)\n",
    "        cap.release()\n",
    "\n",
    "# ================= 사용 예시 =================\n",
    "\n",
    "\n",
    "\n",
    "duration = get_video_duration(video_file_path)\n",
    "\n",
    "if duration is not None:\n",
    "    # 초 단위 출력\n",
    "    print(f\"\\n파일 경로: {video_file_path}\")\n",
    "    print(f\"▶️ 영상의 정확한 길이는 {duration:.3f} 초 입니다.\")\n",
    "    \n",
    "    # 분:초 형식으로도 출력 (가독성을 높이기 위해)\n",
    "    minutes = int(duration // 60)\n",
    "    seconds = duration % 60\n",
    "    print(f\"⏱️ ({minutes:02d}분 {seconds:.3f}초)\")"
   ]
  }
 ],
 "metadata": {
  "kernelspec": {
   "display_name": "Python 3",
   "language": "python",
   "name": "python3"
  },
  "language_info": {
   "codemirror_mode": {
    "name": "ipython",
    "version": 3
   },
   "file_extension": ".py",
   "mimetype": "text/x-python",
   "name": "python",
   "nbconvert_exporter": "python",
   "pygments_lexer": "ipython3",
   "version": "3.13.7"
  }
 },
 "nbformat": 4,
 "nbformat_minor": 5
}
